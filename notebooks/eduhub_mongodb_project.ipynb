{
 "cells": [
  {
   "cell_type": "code",
   "execution_count": 1,
   "id": "5fca96e3",
   "metadata": {},
   "outputs": [
    {
     "name": "stdout",
     "output_type": "stream",
     "text": [
      "Database and collections created successfully!\n"
     ]
    }
   ],
   "source": [
    "# ------------------------------\n",
    "# Task 1.1: Database Setup\n",
    "# ------------------------------\n",
    "\n",
    "from pymongo import MongoClient\n",
    "from datetime import datetime\n",
    "import pandas as pd\n",
    "\n",
    "client = MongoClient(\"mongodb://localhost:27017/\")\n",
    "\n",
    "# Create or access the database\n",
    "db = client[\"eduhub_db\"]\n",
    "\n",
    "#Create empty collections for now\n",
    "db.create_collection(\"users\")\n",
    "db.create_collection(\"courses\")\n",
    "db.create_collection(\"lessons\")\n",
    "db.create_collection(\"assignments\")\n",
    "db.create_collection(\"enrollments\")\n",
    "db.create_collection(\"submissions\")\n",
    "\n",
    "print(\"Database and collections created successfully!\")\n"
   ]
  },
  {
   "cell_type": "code",
   "execution_count": 2,
   "id": "9dc36c24",
   "metadata": {},
   "outputs": [
    {
     "name": "stdout",
     "output_type": "stream",
     "text": [
      "Users collection validator added!\n"
     ]
    }
   ],
   "source": [
    "# ------------------------------\n",
    "# Users Collection Schema\n",
    "# ------------------------------\n",
    "\n",
    "user_validator = {\n",
    "    \"$jsonSchema\": {\n",
    "        \"bsonType\": \"object\",\n",
    "        \"required\": [\"userId\", \"email\", \"firstName\", \"lastName\", \"role\"],\n",
    "        \"properties\": {\n",
    "            \"userId\": {\"bsonType\": \"string\"},\n",
    "            \"email\": {\"bsonType\": \"string\"},\n",
    "            \"firstName\": {\"bsonType\": \"string\"},\n",
    "            \"lastName\": {\"bsonType\": \"string\"},\n",
    "            \"role\": {\n",
    "                \"bsonType\": \"string\",\n",
    "                \"enum\": [\"student\", \"instructor\"]\n",
    "            },\n",
    "            \"dateJoined\": {\"bsonType\": \"date\"},\n",
    "            \"profile\": {\n",
    "                \"bsonType\": \"object\",\n",
    "                \"properties\": {\n",
    "                    \"bio\": {\"bsonType\": \"string\"},\n",
    "                    \"avatar\": {\"bsonType\": \"string\"},\n",
    "                    \"skills\": {\n",
    "                        \"bsonType\": \"array\",\n",
    "                        \"items\": {\"bsonType\": \"string\"}\n",
    "                    }\n",
    "                }\n",
    "            },\n",
    "            \"isActive\": {\"bsonType\": \"bool\"}\n",
    "        }\n",
    "    }\n",
    "}\n",
    "\n",
    "# Apply the validator\n",
    "db.command(\"collMod\", \"users\", validator=user_validator)\n",
    "\n",
    "print(\"Users collection validator added!\")\n"
   ]
  },
  {
   "cell_type": "code",
   "execution_count": 3,
   "id": "eaa728d3",
   "metadata": {},
   "outputs": [
    {
     "name": "stdout",
     "output_type": "stream",
     "text": [
      "Courses collection validator added!\n"
     ]
    }
   ],
   "source": [
    "# ------------------------------\n",
    "# Courses Collection Schema\n",
    "# ------------------------------\n",
    "\n",
    "course_validator = {\n",
    "    \"$jsonSchema\": {\n",
    "        \"bsonType\": \"object\",\n",
    "        \"required\": [\"courseId\", \"title\", \"instructorId\", \"level\"],\n",
    "        \"properties\": {\n",
    "            \"courseId\": {\"bsonType\": \"string\"},\n",
    "            \"title\": {\"bsonType\": \"string\"},\n",
    "            \"description\": {\"bsonType\": \"string\"},\n",
    "            \"instructorId\": {\"bsonType\": \"string\"},\n",
    "            \"category\": {\"bsonType\": \"string\"},\n",
    "            \"level\": {\n",
    "                \"bsonType\": \"string\",\n",
    "                \"enum\": [\"beginner\", \"intermediate\", \"advanced\"]\n",
    "            },\n",
    "            \"duration\": {\"bsonType\": [\"int\", \"double\"]},\n",
    "            \"price\": {\"bsonType\": [\"int\", \"double\"]},\n",
    "            \"tags\": {\n",
    "                \"bsonType\": \"array\",\n",
    "                \"items\": {\"bsonType\": \"string\"}\n",
    "            },\n",
    "            \"createdAt\": {\"bsonType\": \"date\"},\n",
    "            \"updatedAt\": {\"bsonType\": \"date\"},\n",
    "            \"isPublished\": {\"bsonType\": \"bool\"}\n",
    "        }\n",
    "    }\n",
    "}\n",
    "\n",
    "# Apply the validator\n",
    "db.command(\"collMod\", \"courses\", validator=course_validator)\n",
    "\n",
    "print(\"Courses collection validator added!\")\n"
   ]
  },
  {
   "cell_type": "code",
   "execution_count": 115,
   "id": "8b69503c",
   "metadata": {},
   "outputs": [],
   "source": [
    "# Step 2: Create 20 sample users (students and instructors)\n",
    "users_data = [\n",
    "    {\n",
    "        \"userId\": f\"U{i+1:03}\",\n",
    "        \"email\": f\"user{i+1}@eduhub.com\",\n",
    "        \"firstName\": first,\n",
    "        \"lastName\": last,\n",
    "        \"role\": role,\n",
    "        \"dateJoined\": datetime(2024, 5, i % 12 + 1),\n",
    "        \"profile\": {\n",
    "            \"bio\": f\"{first} {last} is a passionate {role} at EduHub.\",\n",
    "            \"avatar\": f\"https://eduhub.com/avatars/{first.lower()}_{last.lower()}.jpg\",\n",
    "            \"skills\": [\"Python\", \"Data Analysis\"] if role == \"instructor\" else [\"Excel\", \"Time Management\"]\n",
    "        },\n",
    "        \"isActive\": True\n",
    "    }\n",
    "    for i, (first, last, role) in enumerate([\n",
    "        (\"Michael\", \"Scott\", \"instructor\"),\n",
    "        (\"Jim\", \"Halpert\", \"student\"),\n",
    "        (\"Pam\", \"Beesly\", \"student\"),\n",
    "        (\"Dwight\", \"Schrute\", \"instructor\"),\n",
    "        (\"Andy\", \"Bernard\", \"student\"),\n",
    "        (\"Stanley\", \"Hudson\", \"student\"),\n",
    "        (\"Kevin\", \"Malone\", \"student\"),\n",
    "        (\"Angela\", \"Martin\", \"student\"),\n",
    "        (\"Oscar\", \"Martinez\", \"student\"),\n",
    "        (\"Phyllis\", \"Vance\", \"student\"),\n",
    "        (\"Creed\", \"Bratton\", \"student\"),\n",
    "        (\"Kelly\", \"Kapoor\", \"student\"),\n",
    "        (\"Ryan\", \"Howard\", \"instructor\"),\n",
    "        (\"Toby\", \"Flenderson\", \"student\"),\n",
    "        (\"Meredith\", \"Palmer\", \"student\"),\n",
    "        (\"Erin\", \"Hannon\", \"student\"),\n",
    "        (\"Jan\", \"Levinson\", \"instructor\"),\n",
    "        (\"Darryl\", \"Philbin\", \"student\"),\n",
    "        (\"Holly\", \"Flax\", \"instructor\"),\n",
    "        (\"Gabe\", \"Lewis\", \"student\")\n",
    "    ])\n",
    "]\n"
   ]
  },
  {
   "cell_type": "code",
   "execution_count": 12,
   "id": "7f225f91",
   "metadata": {},
   "outputs": [],
   "source": [
    "from pymongo import MongoClient\n",
    "from datetime import datetime\n",
    "import pandas as pd\n",
    "\n",
    "# Connect to MongoDB\n",
    "client = MongoClient(\"mongodb://localhost:27017/\")\n",
    "\n",
    "# Create or connect to the database\n",
    "db = client[\"eduhub_db\"]\n",
    "\n",
    "# Access the 'users' collection\n",
    "users_collection = db[\"users\"]\n",
    "\n"
   ]
  },
  {
   "cell_type": "code",
   "execution_count": 116,
   "id": "296fbeb2",
   "metadata": {},
   "outputs": [
    {
     "name": "stdout",
     "output_type": "stream",
     "text": [
      "Inserted 20 user documents into MongoDB.\n"
     ]
    }
   ],
   "source": [
    "# Insert users into MongoDB\n",
    "insert_result = users_collection.insert_many(users_data)\n",
    "\n",
    "# Confirm insertion\n",
    "print(f\"Inserted {len(insert_result.inserted_ids)} user documents into MongoDB.\")\n"
   ]
  },
  {
   "cell_type": "code",
   "execution_count": 117,
   "id": "1deb741b",
   "metadata": {},
   "outputs": [
    {
     "name": "stdout",
     "output_type": "stream",
     "text": [
      "{'_id': ObjectId('68e2c719cec93274d47e9d6c'), 'userId': 'u1001', 'email': 'ellis@example.com', 'firstName': 'Ellis', 'lastName': 'Ologun', 'role': 'student', 'isActive': True}\n",
      "{'_id': ObjectId('68e2d67ecec93274d47e9d80'), 'userId': 'U001', 'email': 'user1@eduhub.com', 'firstName': 'Michael', 'lastName': 'Scott', 'role': 'instructor', 'dateJoined': datetime.datetime(2024, 5, 1, 0, 0), 'profile': {'bio': 'Michael Scott is a passionate instructor at EduHub.', 'avatar': 'https://eduhub.com/avatars/michael_scott.jpg', 'skills': ['Python', 'Data Analysis']}, 'isActive': True}\n",
      "{'_id': ObjectId('68e2d67ecec93274d47e9d81'), 'userId': 'U002', 'email': 'user2@eduhub.com', 'firstName': 'Jim', 'lastName': 'Halpert', 'role': 'student', 'dateJoined': datetime.datetime(2024, 5, 2, 0, 0), 'profile': {'bio': 'Jim Halpert is a passionate student at EduHub.', 'avatar': 'https://eduhub.com/avatars/jim_halpert.jpg', 'skills': ['Excel', 'Time Management']}, 'isActive': True}\n",
      "{'_id': ObjectId('68e2d67ecec93274d47e9d82'), 'userId': 'U003', 'email': 'user3@eduhub.com', 'firstName': 'Pam', 'lastName': 'Beesly', 'role': 'student', 'dateJoined': datetime.datetime(2024, 5, 3, 0, 0), 'profile': {'bio': 'Pam Beesly is a passionate student at EduHub.', 'avatar': 'https://eduhub.com/avatars/pam_beesly.jpg', 'skills': ['Excel', 'Time Management']}, 'isActive': True}\n",
      "{'_id': ObjectId('68e2d67ecec93274d47e9d83'), 'userId': 'U004', 'email': 'user4@eduhub.com', 'firstName': 'Dwight', 'lastName': 'Schrute', 'role': 'instructor', 'dateJoined': datetime.datetime(2024, 5, 4, 0, 0), 'profile': {'bio': 'Dwight Schrute is a passionate instructor at EduHub.', 'avatar': 'https://eduhub.com/avatars/dwight_schrute.jpg', 'skills': ['Python', 'Data Analysis']}, 'isActive': True}\n"
     ]
    }
   ],
   "source": [
    "# Verify inserted data\n",
    "for user in users_collection.find().limit(5):\n",
    "    print(user)\n"
   ]
  },
  {
   "cell_type": "code",
   "execution_count": 17,
   "id": "143cee1a",
   "metadata": {},
   "outputs": [],
   "source": [
    "# Access (or create) the courses collection\n",
    "courses_collection = db[\"courses\"]\n"
   ]
  },
  {
   "cell_type": "code",
   "execution_count": 120,
   "id": "695557f0",
   "metadata": {},
   "outputs": [
    {
     "name": "stdout",
     "output_type": "stream",
     "text": [
      "Inserted 8 courses into MongoDB.\n"
     ]
    }
   ],
   "source": [
    "from datetime import datetime\n",
    "\n",
    "# Step 3: Create 8 sample courses across categories\n",
    "courses_data = [\n",
    "    {\n",
    "        \"courseId\": f\"C{i+1:03}\",\n",
    "        \"title\": title,\n",
    "        \"description\": desc,\n",
    "        \"instructorId\": instructor,  # reference to a userId from users collection\n",
    "        \"category\": category,\n",
    "        \"level\": level,\n",
    "        \"duration\": duration,\n",
    "        \"price\": float(price),  # <-- convert to float\n",
    "        \"tags\": tags,\n",
    "        \"createdAt\": datetime.now(),\n",
    "        \"updatedAt\": datetime.now(),\n",
    "        \"isPublished\": True\n",
    "    }\n",
    "    for i, (title, desc, instructor, category, level, duration, price, tags) in enumerate([\n",
    "        (\"Python for Beginners\", \"Learn Python from scratch with hands-on exercises.\", \"U001\", \"Programming\", \"beginner\", 20, 50, [\"python\", \"coding\", \"beginner\"]),\n",
    "        (\"Data Analysis with Excel\", \"Master Excel for business and analytics.\", \"U004\", \"Data Science\", \"beginner\", 15, 40, [\"excel\", \"data\", \"analysis\"]),\n",
    "        (\"Web Development Bootcamp\", \"Build modern websites using HTML, CSS, and JavaScript.\", \"U013\", \"Web Development\", \"intermediate\", 30, 60, [\"html\", \"css\", \"javascript\"]),\n",
    "        (\"Machine Learning 101\", \"Introductory course to machine learning fundamentals.\", \"U017\", \"Artificial Intelligence\", \"beginner\", 25, 80, [\"machine learning\", \"ai\", \"data\"]),\n",
    "        (\"Database Design with MongoDB\", \"Learn how to design efficient NoSQL databases.\", \"U001\", \"Database\", \"intermediate\", 18, 70, [\"mongodb\", \"database\", \"nosql\"]),\n",
    "        (\"Advanced Python Programming\", \"Deep dive into Python OOP, modules, and best practices.\", \"U017\", \"Programming\", \"advanced\", 22, 90, [\"python\", \"advanced\", \"oop\"]),\n",
    "        (\"Business Analytics Fundamentals\", \"Understand data-driven decision-making in business.\", \"U019\", \"Business\", \"intermediate\", 16, 55, [\"business\", \"analytics\", \"data\"]),\n",
    "        (\"Cloud Computing Basics\", \"Get started with AWS, Azure, and Google Cloud.\", \"U013\", \"Cloud Computing\", \"beginner\", 20, 65, [\"cloud\", \"aws\", \"azure\"])\n",
    "    ])\n",
    "]\n",
    "\n",
    "# Insert the courses into MongoDB\n",
    "insert_result = courses_collection.insert_many(courses_data)\n",
    "\n",
    "print(f\"Inserted {len(insert_result.inserted_ids)} courses into MongoDB.\")\n"
   ]
  },
  {
   "cell_type": "code",
   "execution_count": 121,
   "id": "a25b2dfd",
   "metadata": {},
   "outputs": [
    {
     "name": "stdout",
     "output_type": "stream",
     "text": [
      "{'_id': ObjectId('68e2d8bfcec93274d47e9d9d'), 'courseId': 'C001', 'title': 'Python for Beginners', 'description': 'Learn Python from scratch with hands-on exercises.', 'instructorId': 'U001', 'category': 'Programming', 'level': 'beginner', 'duration': 20, 'price': 50.0, 'tags': ['python', 'coding', 'beginner'], 'createdAt': datetime.datetime(2025, 10, 5, 21, 44, 47, 935000), 'updatedAt': datetime.datetime(2025, 10, 5, 21, 44, 47, 935000), 'isPublished': True}\n",
      "{'_id': ObjectId('68e2d8bfcec93274d47e9d9e'), 'courseId': 'C002', 'title': 'Data Analysis with Excel', 'description': 'Master Excel for business and analytics.', 'instructorId': 'U004', 'category': 'Data Science', 'level': 'beginner', 'duration': 15, 'price': 40.0, 'tags': ['excel', 'data', 'analysis'], 'createdAt': datetime.datetime(2025, 10, 5, 21, 44, 47, 935000), 'updatedAt': datetime.datetime(2025, 10, 5, 21, 44, 47, 935000), 'isPublished': True}\n",
      "{'_id': ObjectId('68e2d8bfcec93274d47e9d9f'), 'courseId': 'C003', 'title': 'Web Development Bootcamp', 'description': 'Build modern websites using HTML, CSS, and JavaScript.', 'instructorId': 'U013', 'category': 'Web Development', 'level': 'intermediate', 'duration': 30, 'price': 60.0, 'tags': ['html', 'css', 'javascript'], 'createdAt': datetime.datetime(2025, 10, 5, 21, 44, 47, 935000), 'updatedAt': datetime.datetime(2025, 10, 5, 21, 44, 47, 935000), 'isPublished': True}\n",
      "{'_id': ObjectId('68e2d8bfcec93274d47e9da0'), 'courseId': 'C004', 'title': 'Machine Learning 101', 'description': 'Introductory course to machine learning fundamentals.', 'instructorId': 'U017', 'category': 'Artificial Intelligence', 'level': 'beginner', 'duration': 25, 'price': 80.0, 'tags': ['machine learning', 'ai', 'data'], 'createdAt': datetime.datetime(2025, 10, 5, 21, 44, 47, 935000), 'updatedAt': datetime.datetime(2025, 10, 5, 21, 44, 47, 935000), 'isPublished': True}\n",
      "{'_id': ObjectId('68e2d8bfcec93274d47e9da1'), 'courseId': 'C005', 'title': 'Database Design with MongoDB', 'description': 'Learn how to design efficient NoSQL databases.', 'instructorId': 'U001', 'category': 'Database', 'level': 'intermediate', 'duration': 18, 'price': 70.0, 'tags': ['mongodb', 'database', 'nosql'], 'createdAt': datetime.datetime(2025, 10, 5, 21, 44, 47, 935000), 'updatedAt': datetime.datetime(2025, 10, 5, 21, 44, 47, 935000), 'isPublished': True}\n"
     ]
    }
   ],
   "source": [
    "#Verify by printing the first few courses\n",
    "for course in courses_collection.find().limit(5):\n",
    "    print(course)\n"
   ]
  },
  {
   "cell_type": "code",
   "execution_count": 21,
   "id": "83dd8ea5",
   "metadata": {},
   "outputs": [
    {
     "name": "stdout",
     "output_type": "stream",
     "text": [
      "15 enrollments inserted successfully!\n"
     ]
    }
   ],
   "source": [
    "#Inserting 15 enrollments\n",
    "from datetime import datetime\n",
    "import random\n",
    "\n",
    "students = [u[\"userId\"] for u in users_collection.find({\"role\": \"student\"})]\n",
    "courses = [c[\"courseId\"] for c in courses_collection.find()]\n",
    "\n",
    "enrollments = []\n",
    "statuses = [\"active\", \"completed\", \"dropped\"]\n",
    "\n",
    "for i in range(15):\n",
    "    enrollment = {\n",
    "        \"enrollmentId\": f\"E{i+1:03}\",\n",
    "        \"userId\": random.choice(students),\n",
    "        \"courseId\": random.choice(courses),\n",
    "        \"dateEnrolled\": datetime.now(),\n",
    "        \"progress\": random.randint(0, 100),\n",
    "        \"status\": random.choice(statuses)\n",
    "    }\n",
    "    enrollments.append(enrollment)\n",
    "\n",
    "# Insert into MongoDB\n",
    "enrollments_collection = db[\"enrollments\"]\n",
    "enrollments_collection.insert_many(enrollments)\n",
    "\n",
    "print(\"15 enrollments inserted successfully!\")\n"
   ]
  },
  {
   "cell_type": "code",
   "execution_count": 23,
   "id": "b0a24233",
   "metadata": {},
   "outputs": [
    {
     "name": "stdout",
     "output_type": "stream",
     "text": [
      "25 lessons inserted successfully!\n"
     ]
    }
   ],
   "source": [
    "#Inserting 25 lessons\n",
    "from datetime import datetime\n",
    "import random\n",
    "\n",
    "# Get all courses from DB\n",
    "courses = [c[\"courseId\"] for c in courses_collection.find()]\n",
    "\n",
    "lessons = []\n",
    "\n",
    "for i in range(25):\n",
    "    course_id = random.choice(courses)\n",
    "    lesson = {\n",
    "        \"lessonId\": f\"L{i+1:03}\",\n",
    "        \"courseId\": course_id,\n",
    "        \"title\": f\"Lesson {i+1}: Key Concepts of Course {course_id}\",\n",
    "        \"content\": f\"This lesson covers important concepts for {course_id}.\",\n",
    "        \"durationMinutes\": random.randint(10, 45),\n",
    "        \"order\": random.randint(1, 10),\n",
    "        \"createdAt\": datetime.now(),\n",
    "        \"updatedAt\": datetime.now()\n",
    "    }\n",
    "    lessons.append(lesson)\n",
    "\n",
    "# Insert into MongoDB\n",
    "lessons_collection = db[\"lessons\"]\n",
    "lessons_collection.insert_many(lessons)\n",
    "\n",
    "print(\"25 lessons inserted successfully!\")\n",
    "\n"
   ]
  },
  {
   "cell_type": "code",
   "execution_count": 28,
   "id": "251dbf7f",
   "metadata": {},
   "outputs": [
    {
     "name": "stdout",
     "output_type": "stream",
     "text": [
      "10 assignments inserted successfully!\n"
     ]
    }
   ],
   "source": [
    "#Inserting 10 assignments\n",
    "from datetime import datetime, timedelta\n",
    "import random\n",
    "\n",
    "# Fetch existing course IDs\n",
    "courses = [c[\"courseId\"] for c in courses_collection.find()]\n",
    "\n",
    "assignments = []\n",
    "\n",
    "for i in range(10):\n",
    "    course_id = random.choice(courses)\n",
    "    assignment = {\n",
    "        \"assignmentId\": f\"A{i+1:03}\",\n",
    "        \"courseId\": course_id,\n",
    "        \"title\": f\"Assignment {i+1} for {course_id}\",\n",
    "        \"description\": f\"This assignment tests understanding of core concepts in {course_id}.\",\n",
    "        \"dueDate\": datetime.now() + timedelta(days=random.randint(5, 20)),\n",
    "        \"maxScore\": random.randint(50, 100),\n",
    "        \"createdAt\": datetime.now(),\n",
    "        \"updatedAt\": datetime.now()\n",
    "    }\n",
    "    assignments.append(assignment)\n",
    "\n",
    "# Insert into MongoDB\n",
    "assignments_collection = db[\"assignments\"]\n",
    "assignments_collection.insert_many(assignments)\n",
    "\n",
    "print(\"10 assignments inserted successfully!\")\n",
    "\n"
   ]
  },
  {
   "cell_type": "code",
   "execution_count": 108,
   "id": "cbe20ec2",
   "metadata": {},
   "outputs": [
    {
     "name": "stdout",
     "output_type": "stream",
     "text": [
      "12 assignment submissions inserted successfully!\n"
     ]
    }
   ],
   "source": [
    "#inserting 12 assignment submissions\n",
    "from datetime import datetime, timedelta\n",
    "import random\n",
    "\n",
    "# Get all assignment and student IDs\n",
    "assignments = [a[\"assignmentId\"] for a in assignments_collection.find()]\n",
    "students = [u[\"userId\"] for u in users_collection.find({\"role\": \"student\"})]\n",
    "\n",
    "submissions = []\n",
    "\n",
    "for i in range(12):\n",
    "    assignment_id = random.choice(assignments)\n",
    "    student_id = random.choice(students)\n",
    "    graded = random.choice([True, False])\n",
    "    grade = random.randint(50, 100) if graded else None\n",
    "    \n",
    "    submission = {\n",
    "        \"submissionId\": f\"S{i+1:03}\",\n",
    "        \"assignmentId\": assignment_id,\n",
    "        \"studentId\": student_id,\n",
    "        \"submittedAt\": datetime.now() - timedelta(days=random.randint(0, 5)),\n",
    "        \"content\": f\"https://eduhub.com/submissions/{i+1}\",\n",
    "        \"grade\": grade,\n",
    "        \"feedback\": \"Well done!\" if graded else \"Pending grading\",\n",
    "        \"isGraded\": graded\n",
    "    }\n",
    "    \n",
    "    submissions.append(submission)\n",
    "\n",
    "# Insert into MongoDB\n",
    "submissions_collection = db[\"submissions\"]\n",
    "submissions_collection.insert_many(submissions)\n",
    "\n",
    "print(\"12 assignment submissions inserted successfully!\")\n"
   ]
  },
  {
   "cell_type": "code",
   "execution_count": 37,
   "id": "aee0ac7f",
   "metadata": {},
   "outputs": [
    {
     "name": "stdout",
     "output_type": "stream",
     "text": [
      "New student added successfully!\n",
      "Inserted ID: 68e2b0f5cec93274d47e9d64\n"
     ]
    }
   ],
   "source": [
    "#inserting new student \n",
    "from datetime import datetime\n",
    "\n",
    "# Define the new student user\n",
    "new_student = {\n",
    "    \"userId\": \"U021\",\n",
    "    \"email\": \"ellis.ologun@example.com\",\n",
    "    \"firstName\": \"Ellis\",\n",
    "    \"lastName\": \"Ologun\",\n",
    "    \"role\": \"student\",\n",
    "    \"dateJoined\": datetime.now(),\n",
    "    \"profile\": {\n",
    "        \"bio\": \"An enthusiastic learner passionate about data engineering and analytics.\",\n",
    "        \"avatar\": \"https://example.com/avatar/ellis.png\",\n",
    "        \"skills\": [\"Python\", \"SQL\", \"MongoDB\"]\n",
    "    },\n",
    "    \"isActive\": True\n",
    "}\n",
    "\n",
    "# Insert the new student into the users collection\n",
    "result = users_collection.insert_one(new_student)\n",
    "\n",
    "# Print confirmation\n",
    "print(\"New student added successfully!\")\n",
    "print(\"Inserted ID:\", result.inserted_id)\n"
   ]
  },
  {
   "cell_type": "code",
   "execution_count": 43,
   "id": "e7d1b711",
   "metadata": {},
   "outputs": [
    {
     "name": "stdout",
     "output_type": "stream",
     "text": [
      "New course inserted successfully!\n",
      "{'_id': ObjectId('68e2b3fdcec93274d47e9d67'), 'courseId': 'C734', 'title': 'Introduction to Cloud Computing', 'description': 'Learn deployment models, core cloud services, and on-ramps to AWS/Azure/GCP.', 'instructorId': '68e1bfb7cec93274d47e9d0a', 'category': 'Cloud Computing', 'level': 'beginner', 'duration': 16, 'price': 59.99, 'tags': ['cloud', 'aws', 'azure', 'gcp'], 'createdAt': datetime.datetime(2025, 10, 5, 18, 7, 57, 804000), 'updatedAt': datetime.datetime(2025, 10, 5, 18, 7, 57, 804000), 'isPublished': True}\n"
     ]
    }
   ],
   "source": [
    "#inserting new course\n",
    "from datetime import datetime\n",
    "import random\n",
    "\n",
    "users_collection = db[\"users\"]\n",
    "courses_collection = db[\"courses\"]\n",
    "\n",
    "instructor = users_collection.find_one({\"role\": \"instructor\"})\n",
    "instructor_ref = str(instructor[\"_id\"])\n",
    "\n",
    "course_id = f\"C{random.randint(100,999)}\"\n",
    "\n",
    "new_course = {\n",
    "    \"courseId\": course_id,\n",
    "    \"title\": \"Introduction to Cloud Computing\",\n",
    "    \"description\": \"Learn deployment models, core cloud services, and on-ramps to AWS/Azure/GCP.\",\n",
    "    \"instructorId\": instructor_ref,\n",
    "    \"category\": \"Cloud Computing\",\n",
    "    \"level\": \"beginner\",\n",
    "    \"duration\": 16,\n",
    "    \"price\": 59.99,\n",
    "    \"tags\": [\"cloud\", \"aws\", \"azure\", \"gcp\"],\n",
    "    \"createdAt\": datetime.utcnow(),\n",
    "    \"updatedAt\": datetime.utcnow(),\n",
    "    \"isPublished\": True\n",
    "}\n",
    "\n",
    "result = courses_collection.insert_one(new_course)\n",
    "print(\"New course inserted successfully!\")\n",
    "print(courses_collection.find_one({\"_id\": result.inserted_id}))\n"
   ]
  },
  {
   "cell_type": "code",
   "execution_count": 44,
   "id": "8ea85f21",
   "metadata": {},
   "outputs": [
    {
     "name": "stdout",
     "output_type": "stream",
     "text": [
      "Enrollment created successfully!\n",
      "{'_id': ObjectId('68e2b4d7cec93274d47e9d68'), 'enrollmentId': 'E4462', 'studentId': '68e1bfb7cec93274d47e9d0b', 'courseId': 'C001', 'enrolledAt': datetime.datetime(2025, 10, 5, 18, 11, 35, 868000), 'progress': 0, 'status': 'in-progress'}\n"
     ]
    }
   ],
   "source": [
    "#new enrollment\n",
    "from datetime import datetime\n",
    "import random\n",
    "\n",
    "# connect to collections\n",
    "users_collection = db[\"users\"]\n",
    "courses_collection = db[\"courses\"]\n",
    "enrollments_collection = db[\"enrollments\"]\n",
    "\n",
    "# get one student (any)\n",
    "student = users_collection.find_one({\"role\": \"student\"})\n",
    "student_ref = str(student[\"_id\"])\n",
    "\n",
    "# get one course (any)\n",
    "course = courses_collection.find_one()\n",
    "course_ref = course[\"courseId\"]\n",
    "\n",
    "# create a unique enrollment ID\n",
    "enrollment_id = f\"E{random.randint(1000,9999)}\"\n",
    "\n",
    "# build the enrollment document\n",
    "new_enrollment = {\n",
    "    \"enrollmentId\": enrollment_id,\n",
    "    \"studentId\": student_ref,\n",
    "    \"courseId\": course_ref,\n",
    "    \"enrolledAt\": datetime.utcnow(),\n",
    "    \"progress\": 0,  # start from 0%\n",
    "    \"status\": \"in-progress\"\n",
    "}\n",
    "\n",
    "# insert into enrollments collection\n",
    "result = enrollments_collection.insert_one(new_enrollment)\n",
    "print(\"Enrollment created successfully!\")\n",
    "\n",
    "# verify\n",
    "print(enrollments_collection.find_one({\"_id\": result.inserted_id}))\n"
   ]
  },
  {
   "cell_type": "code",
   "execution_count": 45,
   "id": "5c1a375b",
   "metadata": {},
   "outputs": [
    {
     "name": "stdout",
     "output_type": "stream",
     "text": [
      "New lesson added successfully!\n",
      "{'_id': ObjectId('68e2b51ccec93274d47e9d69'), 'lessonId': 'L8227', 'courseId': 'C001', 'title': 'Cloud Computing Basics', 'content': 'This lesson covers cloud deployment models, key services, and examples.', 'duration': 45, 'createdAt': datetime.datetime(2025, 10, 5, 18, 12, 44, 669000), 'updatedAt': datetime.datetime(2025, 10, 5, 18, 12, 44, 669000)}\n"
     ]
    }
   ],
   "source": [
    "#new lesson\n",
    "from datetime import datetime\n",
    "import random\n",
    "\n",
    "# connect to collections\n",
    "lessons_collection = db[\"lessons\"]\n",
    "courses_collection = db[\"courses\"]\n",
    "\n",
    "# pick an existing course\n",
    "course = courses_collection.find_one()\n",
    "course_id = course[\"courseId\"]\n",
    "\n",
    "# generate a unique lesson ID\n",
    "lesson_id = f\"L{random.randint(1000,9999)}\"\n",
    "\n",
    "# define new lesson\n",
    "new_lesson = {\n",
    "    \"lessonId\": lesson_id,\n",
    "    \"courseId\": course_id,\n",
    "    \"title\": \"Cloud Computing Basics\",\n",
    "    \"content\": \"This lesson covers cloud deployment models, key services, and examples.\",\n",
    "    \"duration\": 45,  # minutes\n",
    "    \"createdAt\": datetime.utcnow(),\n",
    "    \"updatedAt\": datetime.utcnow()\n",
    "}\n",
    "\n",
    "# insert into lessons collection\n",
    "result = lessons_collection.insert_one(new_lesson)\n",
    "print(\"New lesson added successfully!\")\n",
    "\n",
    "# verify insertion\n",
    "print(lessons_collection.find_one({\"_id\": result.inserted_id}))\n"
   ]
  },
  {
   "cell_type": "code",
   "execution_count": 46,
   "id": "9a5ef91d",
   "metadata": {},
   "outputs": [
    {
     "name": "stdout",
     "output_type": "stream",
     "text": [
      "Active students:\n",
      "Jim Halpert - user2@eduhub.com\n",
      "Pam Beesly - user3@eduhub.com\n",
      "Andy Bernard - user5@eduhub.com\n",
      "Stanley Hudson - user6@eduhub.com\n",
      "Kevin Malone - user7@eduhub.com\n",
      "Angela Martin - user8@eduhub.com\n",
      "Oscar Martinez - user9@eduhub.com\n",
      "Phyllis Vance - user10@eduhub.com\n",
      "Creed Bratton - user11@eduhub.com\n",
      "Kelly Kapoor - user12@eduhub.com\n",
      "Toby Flenderson - user14@eduhub.com\n",
      "Meredith Palmer - user15@eduhub.com\n",
      "Erin Hannon - user16@eduhub.com\n",
      "Darryl Philbin - user18@eduhub.com\n",
      "Gabe Lewis - user20@eduhub.com\n",
      "Ellis Ologun - ellis.ologun@example.com\n"
     ]
    }
   ],
   "source": [
    "#active students\n",
    "# connect to users collection\n",
    "users_collection = db[\"users\"]\n",
    "\n",
    "# find all active students\n",
    "active_students = users_collection.find({\"role\": \"student\", \"isActive\": True})\n",
    "\n",
    "# print the results\n",
    "print(\"Active students:\")\n",
    "for student in active_students:\n",
    "    print(f\"{student['firstName']} {student['lastName']} - {student['email']}\")\n"
   ]
  },
  {
   "cell_type": "code",
   "execution_count": 47,
   "id": "9b0d1bec",
   "metadata": {},
   "outputs": [
    {
     "name": "stdout",
     "output_type": "stream",
     "text": [
      "Course: Python for Beginners\n",
      "Category: Programming\n",
      "Instructor: Michael Scott (user1@eduhub.com)\n",
      "Published: True\n",
      "--------------------------------------------------\n",
      "Course: Data Analysis with Excel\n",
      "Category: Data Science\n",
      "Instructor: Dwight Schrute (user4@eduhub.com)\n",
      "Published: True\n",
      "--------------------------------------------------\n",
      "Course: Web Development Bootcamp\n",
      "Category: Web Development\n",
      "Instructor: Ryan Howard (user13@eduhub.com)\n",
      "Published: True\n",
      "--------------------------------------------------\n",
      "Course: Machine Learning 101\n",
      "Category: Artificial Intelligence\n",
      "Instructor: Jan Levinson (user17@eduhub.com)\n",
      "Published: True\n",
      "--------------------------------------------------\n",
      "Course: Database Design with MongoDB\n",
      "Category: Database\n",
      "Instructor: Michael Scott (user1@eduhub.com)\n",
      "Published: True\n",
      "--------------------------------------------------\n",
      "Course: Advanced Python Programming\n",
      "Category: Programming\n",
      "Instructor: Jan Levinson (user17@eduhub.com)\n",
      "Published: True\n",
      "--------------------------------------------------\n",
      "Course: Business Analytics Fundamentals\n",
      "Category: Business\n",
      "Instructor: Holly Flax (user19@eduhub.com)\n",
      "Published: True\n",
      "--------------------------------------------------\n",
      "Course: Cloud Computing Basics\n",
      "Category: Cloud Computing\n",
      "Instructor: Ryan Howard (user13@eduhub.com)\n",
      "Published: True\n",
      "--------------------------------------------------\n"
     ]
    }
   ],
   "source": [
    "# connect to collections\n",
    "courses_collection = db[\"courses\"]\n",
    "users_collection = db[\"users\"]\n",
    "\n",
    "# aggregation pipeline to join courses with instructor info\n",
    "pipeline = [\n",
    "    {\n",
    "        \"$lookup\": {\n",
    "            \"from\": \"users\",           \n",
    "            \"localField\": \"instructorId\", \n",
    "            \"foreignField\": \"userId\",     \n",
    "            \"as\": \"instructor_info\"        \n",
    "        }\n",
    "    },\n",
    "    {\n",
    "        \"$unwind\": \"$instructor_info\"  # flatten the array to a single document\n",
    "    }\n",
    "]\n",
    "\n",
    "# execute the aggregation\n",
    "courses_with_instructors = courses_collection.aggregate(pipeline)\n",
    "\n",
    "# print results\n",
    "for course in courses_with_instructors:\n",
    "    print(f\"Course: {course['title']}\")\n",
    "    print(f\"Category: {course['category']}\")\n",
    "    print(f\"Instructor: {course['instructor_info']['firstName']} {course['instructor_info']['lastName']} ({course['instructor_info']['email']})\")\n",
    "    print(f\"Published: {course['isPublished']}\")\n",
    "    print(\"-\" * 50)\n"
   ]
  },
  {
   "cell_type": "code",
   "execution_count": 48,
   "id": "04210148",
   "metadata": {},
   "outputs": [
    {
     "name": "stdout",
     "output_type": "stream",
     "text": [
      "Courses in category 'Cloud Computing':\n",
      "Cloud Computing Basics - Level: beginner, Price: $65\n",
      "Introduction to Cloud Computing - Level: beginner, Price: $59.99\n"
     ]
    }
   ],
   "source": [
    "# Get all courses in a specific category\n",
    "category_name = \"Cloud Computing\"\n",
    "\n",
    "# find courses in that category\n",
    "courses_in_category = courses_collection.find({\"category\": category_name})\n",
    "\n",
    "# print results\n",
    "print(f\"Courses in category '{category_name}':\")\n",
    "for course in courses_in_category:\n",
    "    print(f\"{course['title']} - Level: {course['level']}, Price: ${course['price']}\")\n"
   ]
  },
  {
   "cell_type": "code",
   "execution_count": 49,
   "id": "5c5d7413",
   "metadata": {},
   "outputs": [
    {
     "name": "stdout",
     "output_type": "stream",
     "text": [
      "Students enrolled in 'Introduction to Cloud Computing':\n"
     ]
    }
   ],
   "source": [
    "# find students enrolled in a particular course\n",
    "course_title = \"Introduction to Cloud Computing\"\n",
    "\n",
    "# get the course document\n",
    "course = courses_collection.find_one({\"title\": course_title})\n",
    "course_id = course[\"courseId\"]\n",
    "\n",
    "# aggregation pipeline: join enrollments with users to get student info\n",
    "pipeline = [\n",
    "    {\"$match\": {\"courseId\": course_id}},   \n",
    "    {\n",
    "        \"$lookup\": {\n",
    "            \"from\": \"users\",\n",
    "            \"localField\": \"studentId\",     \n",
    "            \"foreignField\": \"_id\",        \n",
    "            \"as\": \"student_info\"\n",
    "        }\n",
    "    },\n",
    "    {\"$unwind\": \"$student_info\"}           # flatten the array\n",
    "]\n",
    "\n",
    "# run aggregation\n",
    "enrolled_students = db[\"enrollments\"].aggregate(pipeline)\n",
    "\n",
    "# print results\n",
    "print(f\"Students enrolled in '{course_title}':\")\n",
    "for enrollment in enrolled_students:\n",
    "    student = enrollment[\"student_info\"]\n",
    "    print(f\"{student['firstName']} {student['lastName']} - {student['email']}\")\n"
   ]
  },
  {
   "cell_type": "code",
   "execution_count": 50,
   "id": "5de00c89",
   "metadata": {},
   "outputs": [
    {
     "name": "stdout",
     "output_type": "stream",
     "text": [
      "Courses matching 'cloud':\n",
      "Cloud Computing Basics - Category: Cloud Computing, Level: beginner\n",
      "Introduction to Cloud Computing - Category: Cloud Computing, Level: beginner\n"
     ]
    }
   ],
   "source": [
    "# Search courses by title (case-insensitive, partial match)\n",
    "keyword = \"cloud\"\n",
    "\n",
    "# use a case-insensitive regex to match the title\n",
    "matching_courses = courses_collection.find({\"title\": {\"$regex\": keyword, \"$options\": \"i\"}})\n",
    "\n",
    "# print results\n",
    "print(f\"Courses matching '{keyword}':\")\n",
    "for course in matching_courses:\n",
    "    print(f\"{course['title']} - Category: {course['category']}, Level: {course['level']}\")\n"
   ]
  },
  {
   "cell_type": "code",
   "execution_count": 52,
   "id": "a2dc4e3e",
   "metadata": {},
   "outputs": [
    {
     "name": "stdout",
     "output_type": "stream",
     "text": [
      "✅ Matched 1 document(s), Modified 1 document(s).\n",
      "{'_id': ObjectId('68e2b0f5cec93274d47e9d64'), 'userId': 'U021', 'email': 'ellis.ologun@example.com', 'firstName': 'Ellis', 'lastName': 'Ologun', 'role': 'student', 'dateJoined': datetime.datetime(2025, 10, 5, 18, 55, 1, 764000), 'profile': {'bio': 'I love data engineering and online learning!', 'skills': ['Python', 'MongoDB', 'Data Analysis']}, 'isActive': True}\n"
     ]
    }
   ],
   "source": [
    "#updating user profile\n",
    "# choose the user to update\n",
    "user_email = \"ellis.ologun@example.com\" \n",
    "\n",
    "# new profile info\n",
    "updated_profile = {\n",
    "    \"bio\": \"I love data engineering and online learning!\",\n",
    "    \"skills\": [\"Python\", \"MongoDB\", \"Data Analysis\"]\n",
    "}\n",
    "\n",
    "# update the user's profile\n",
    "result = users_collection.update_one(\n",
    "    {\"email\": user_email},  # find the user\n",
    "    {\"$set\": {\"profile\": updated_profile}}  # update the profile field\n",
    ")\n",
    "\n",
    "print(f\"✅ Matched {result.matched_count} document(s), Modified {result.modified_count} document(s).\")\n",
    "\n",
    "# verify\n",
    "print(users_collection.find_one({\"email\": user_email}))\n"
   ]
  },
  {
   "cell_type": "code",
   "execution_count": 53,
   "id": "667ca473",
   "metadata": {},
   "outputs": [
    {
     "name": "stdout",
     "output_type": "stream",
     "text": [
      " Matched 1 course(s), Modified 1 course(s).\n",
      "{'_id': ObjectId('68e2b3fdcec93274d47e9d67'), 'courseId': 'C734', 'title': 'Introduction to Cloud Computing', 'description': 'Learn deployment models, core cloud services, and on-ramps to AWS/Azure/GCP.', 'instructorId': '68e1bfb7cec93274d47e9d0a', 'category': 'Cloud Computing', 'level': 'beginner', 'duration': 16, 'price': 59.99, 'tags': ['cloud', 'aws', 'azure', 'gcp'], 'createdAt': datetime.datetime(2025, 10, 5, 18, 7, 57, 804000), 'updatedAt': datetime.datetime(2025, 10, 5, 18, 27, 57, 554000), 'isPublished': True}\n"
     ]
    }
   ],
   "source": [
    "# choose a course to publish\n",
    "course_title = \"Introduction to Cloud Computing\"\n",
    "\n",
    "# update isPublished to True\n",
    "result = courses_collection.update_one(\n",
    "    {\"title\": course_title},\n",
    "    {\"$set\": {\"isPublished\": True, \"updatedAt\": datetime.utcnow()}}\n",
    ")\n",
    "\n",
    "print(f\" Matched {result.matched_count} course(s), Modified {result.modified_count} course(s).\")\n",
    "\n",
    "# verify\n",
    "print(courses_collection.find_one({\"title\": course_title}))\n"
   ]
  },
  {
   "cell_type": "code",
   "execution_count": 56,
   "id": "0b9b7b54",
   "metadata": {},
   "outputs": [
    {
     "name": "stdout",
     "output_type": "stream",
     "text": [
      "Matched 1 submission(s), Modified 1 submission(s).\n",
      "{'_id': ObjectId('68e1c766cec93274d47e9d5b'), 'submissionId': 'S004', 'assignmentId': 'A002', 'studentId': 'U007', 'submittedAt': datetime.datetime(2025, 10, 4, 2, 18, 30, 157000), 'content': 'https://eduhub.com/submissions/4', 'grade': 95, 'feedback': 'Pending grading', 'isGraded': False}\n"
     ]
    }
   ],
   "source": [
    "#updating submission\n",
    "# choose a submission to update\n",
    "submission_id = \"S004\" \n",
    "\n",
    "# update grade\n",
    "result = db[\"submissions\"].update_one(\n",
    "    {\"submissionId\": submission_id},\n",
    "    {\"$set\": {\"grade\": 95}}\n",
    ")\n",
    "\n",
    "print(f\"Matched {result.matched_count} submission(s), Modified {result.modified_count} submission(s).\")\n",
    "\n",
    "# verify\n",
    "print(db[\"submissions\"].find_one({\"submissionId\": submission_id}))\n"
   ]
  },
  {
   "cell_type": "code",
   "execution_count": 57,
   "id": "2fc76da8",
   "metadata": {},
   "outputs": [
    {
     "name": "stdout",
     "output_type": "stream",
     "text": [
      " Matched 1 course(s), Modified 1 course(s).\n",
      "{'_id': ObjectId('68e2b3fdcec93274d47e9d67'), 'courseId': 'C734', 'title': 'Introduction to Cloud Computing', 'description': 'Learn deployment models, core cloud services, and on-ramps to AWS/Azure/GCP.', 'instructorId': '68e1bfb7cec93274d47e9d0a', 'category': 'Cloud Computing', 'level': 'beginner', 'duration': 16, 'price': 59.99, 'tags': ['cloud', 'aws', 'azure', 'gcp', 'cloud computing', 'online learning'], 'createdAt': datetime.datetime(2025, 10, 5, 18, 7, 57, 804000), 'updatedAt': datetime.datetime(2025, 10, 5, 18, 34, 38, 711000), 'isPublished': True}\n"
     ]
    }
   ],
   "source": [
    "# choose course to add tags\n",
    "course_title = \"Introduction to Cloud Computing\"\n",
    "\n",
    "# new tags to add\n",
    "new_tags = [\"cloud computing\", \"online learning\"]\n",
    "\n",
    "result = courses_collection.update_one(\n",
    "    {\"title\": course_title},\n",
    "    {\"$addToSet\": {\"tags\": {\"$each\": new_tags}}, \"$set\": {\"updatedAt\": datetime.utcnow()}}\n",
    ")\n",
    "\n",
    "print(f\" Matched {result.matched_count} course(s), Modified {result.modified_count} course(s).\")\n",
    "\n",
    "# verify\n",
    "print(courses_collection.find_one({\"title\": course_title}))\n"
   ]
  },
  {
   "cell_type": "code",
   "execution_count": 58,
   "id": "18a9169d",
   "metadata": {},
   "outputs": [
    {
     "name": "stdout",
     "output_type": "stream",
     "text": [
      "Matched 1 user(s), Modified 1 user(s).\n",
      "{'_id': ObjectId('68e2b0f5cec93274d47e9d64'), 'userId': 'U021', 'email': 'ellis.ologun@example.com', 'firstName': 'Ellis', 'lastName': 'Ologun', 'role': 'student', 'dateJoined': datetime.datetime(2025, 10, 5, 18, 55, 1, 764000), 'profile': {'bio': 'I love data engineering and online learning!', 'skills': ['Python', 'MongoDB', 'Data Analysis']}, 'isActive': False}\n"
     ]
    }
   ],
   "source": [
    "# choose user to soft delete\n",
    "user_email = \"ellis.ologun@example.com\"  # replace with the actual user email\n",
    "\n",
    "# soft delete by updating isActive\n",
    "result = users_collection.update_one(\n",
    "    {\"email\": user_email},\n",
    "    {\"$set\": {\"isActive\": False}}\n",
    ")\n",
    "\n",
    "print(f\"Matched {result.matched_count} user(s), Modified {result.modified_count} user(s).\")\n",
    "\n",
    "# verify\n",
    "print(users_collection.find_one({\"email\": user_email}))\n"
   ]
  },
  {
   "cell_type": "code",
   "execution_count": 62,
   "id": "1f40cc59",
   "metadata": {},
   "outputs": [
    {
     "name": "stdout",
     "output_type": "stream",
     "text": [
      "Deleted 1 enrollment(s).\n"
     ]
    }
   ],
   "source": [
    "# choose enrollment to delete\n",
    "enrollment_id = \"E002\" \n",
    "\n",
    "# delete enrollment\n",
    "result = db[\"enrollments\"].delete_one({\"enrollmentId\": enrollment_id})\n",
    "\n",
    "print(f\"Deleted {result.deleted_count} enrollment(s).\")\n"
   ]
  },
  {
   "cell_type": "code",
   "execution_count": 63,
   "id": "8a725783",
   "metadata": {},
   "outputs": [
    {
     "name": "stdout",
     "output_type": "stream",
     "text": [
      "Deleted 1 lesson(s).\n"
     ]
    }
   ],
   "source": [
    "# choose lesson to remove\n",
    "lesson_id = \"L8227\" \n",
    "\n",
    "# delete lesson\n",
    "result = db[\"lessons\"].delete_one({\"lessonId\": lesson_id})\n",
    "\n",
    "print(f\"Deleted {result.deleted_count} lesson(s).\")\n",
    "\n"
   ]
  },
  {
   "cell_type": "code",
   "execution_count": 64,
   "id": "b5df26f2",
   "metadata": {},
   "outputs": [
    {
     "name": "stdout",
     "output_type": "stream",
     "text": [
      "Courses priced between $50 and $200:\n",
      "Python for Beginners - Price: $50\n",
      "Web Development Bootcamp - Price: $60\n",
      "Machine Learning 101 - Price: $80\n",
      "Database Design with MongoDB - Price: $70\n",
      "Advanced Python Programming - Price: $90\n",
      "Business Analytics Fundamentals - Price: $55\n",
      "Cloud Computing Basics - Price: $65\n",
      "Introduction to Cloud Computing - Price: $59.99\n"
     ]
    }
   ],
   "source": [
    "#Find courses with price between $50 and $200\n",
    "# filter courses by price range\n",
    "price_filtered_courses = courses_collection.find({\n",
    "    \"price\": {\"$gte\": 50, \"$lte\": 200}  # $gte = greater or equal, $lte = less or equal\n",
    "})\n",
    "\n",
    "print(\"Courses priced between $50 and $200:\")\n",
    "for course in price_filtered_courses:\n",
    "    print(f\"{course['title']} - Price: ${course['price']}\")"
   ]
  },
  {
   "cell_type": "code",
   "execution_count": 65,
   "id": "ed1e9373",
   "metadata": {},
   "outputs": [
    {
     "name": "stdout",
     "output_type": "stream",
     "text": [
      "Users who joined in the last 6 months:\n",
      "Ellis Ologun - Joined: 2025-10-05 18:55:01.764000\n"
     ]
    }
   ],
   "source": [
    "#Get users who joined in the last 6 months\n",
    "from datetime import datetime, timedelta\n",
    "\n",
    "# calculate date 6 months ago\n",
    "six_months_ago = datetime.utcnow() - timedelta(days=6*30)  # approx 6 months\n",
    "\n",
    "recent_users = users_collection.find({\n",
    "    \"dateJoined\": {\"$gte\": six_months_ago}\n",
    "})\n",
    "\n",
    "print(\"Users who joined in the last 6 months:\")\n",
    "for user in recent_users:\n",
    "    print(f\"{user['firstName']} {user['lastName']} - Joined: {user['dateJoined']}\")"
   ]
  },
  {
   "cell_type": "code",
   "execution_count": 66,
   "id": "949ffc48",
   "metadata": {},
   "outputs": [
    {
     "name": "stdout",
     "output_type": "stream",
     "text": [
      "Courses with specific tags:\n",
      "Python for Beginners - Tags: ['python', 'coding', 'beginner']\n",
      "Advanced Python Programming - Tags: ['python', 'advanced', 'oop']\n",
      "Cloud Computing Basics - Tags: ['cloud', 'aws', 'azure']\n",
      "Introduction to Cloud Computing - Tags: ['cloud', 'aws', 'azure', 'gcp', 'cloud computing', 'online learning']\n"
     ]
    }
   ],
   "source": [
    "#Find courses that have specific tags using $in operator\n",
    "# tags to search for\n",
    "search_tags = [\"cloud\", \"python\"]\n",
    "\n",
    "courses_with_tags = courses_collection.find({\n",
    "    \"tags\": {\"$in\": search_tags}\n",
    "})\n",
    "\n",
    "print(\"Courses with specific tags:\")\n",
    "for course in courses_with_tags:\n",
    "    print(f\"{course['title']} - Tags: {course['tags']}\")"
   ]
  },
  {
   "cell_type": "code",
   "execution_count": 67,
   "id": "347e1e8f",
   "metadata": {},
   "outputs": [
    {
     "name": "stdout",
     "output_type": "stream",
     "text": [
      "Assignments due in the next week:\n",
      "Assignment 2 for C002 - Due: 2025-10-12 02:12:58.740000\n",
      "Assignment 8 for C004 - Due: 2025-10-12 02:12:58.740000\n"
     ]
    }
   ],
   "source": [
    "#Retrieve assignments with due dates in the next week\n",
    "# calculate dates\n",
    "today = datetime.utcnow()\n",
    "one_week_later = today + timedelta(days=7)\n",
    "\n",
    "assignments_due_next_week = db[\"assignments\"].find({\n",
    "    \"dueDate\": {\"$gte\": today, \"$lte\": one_week_later}\n",
    "})\n",
    "\n",
    "print(\"Assignments due in the next week:\")\n",
    "for assignment in assignments_due_next_week:\n",
    "    print(f\"{assignment['title']} - Due: {assignment['dueDate']}\")"
   ]
  },
  {
   "cell_type": "code",
   "execution_count": 68,
   "id": "1600f38a",
   "metadata": {},
   "outputs": [
    {
     "name": "stdout",
     "output_type": "stream",
     "text": [
      "Total enrollments per course:\n",
      "Business Analytics Fundamentals: 3 students\n",
      "Machine Learning 101: 2 students\n",
      "Python for Beginners: 5 students\n",
      "Advanced Python Programming: 2 students\n",
      "Database Design with MongoDB: 1 students\n",
      "Data Analysis with Excel: 1 students\n",
      "Web Development Bootcamp: 1 students\n"
     ]
    }
   ],
   "source": [
    "#Course Enrollment Statistics: Count total enrollments per course\n",
    "\n",
    "pipeline = [\n",
    "    {\n",
    "        \"$group\": {\n",
    "            \"_id\": \"$courseId\",      # group by courseId\n",
    "            \"totalEnrollments\": {\"$sum\": 1}  # count number of enrollments\n",
    "        }\n",
    "    },\n",
    "    {\n",
    "        \"$lookup\": {\n",
    "            \"from\": \"courses\",\n",
    "            \"localField\": \"_id\",\n",
    "            \"foreignField\": \"courseId\",\n",
    "            \"as\": \"course_info\"\n",
    "        }\n",
    "    },\n",
    "    {\n",
    "        \"$unwind\": \"$course_info\"\n",
    "    },\n",
    "    {\n",
    "        \"$project\": {\n",
    "            \"_id\": 0,\n",
    "            \"courseTitle\": \"$course_info.title\",\n",
    "            \"totalEnrollments\": 1\n",
    "        }\n",
    "    }\n",
    "]\n",
    "\n",
    "result = db[\"enrollments\"].aggregate(pipeline)\n",
    "\n",
    "print(\"Total enrollments per course:\")\n",
    "for doc in result:\n",
    "    print(f\"{doc['courseTitle']}: {doc['totalEnrollments']} students\")"
   ]
  },
  {
   "cell_type": "code",
   "execution_count": 69,
   "id": "ad9ece9b",
   "metadata": {},
   "outputs": [
    {
     "name": "stdout",
     "output_type": "stream",
     "text": [
      "Average course ratings:\n",
      "Python for Beginners: None\n",
      "Data Analysis with Excel: None\n",
      "Web Development Bootcamp: None\n",
      "Machine Learning 101: None\n",
      "Database Design with MongoDB: None\n",
      "Advanced Python Programming: None\n",
      "Business Analytics Fundamentals: None\n",
      "Cloud Computing Basics: None\n",
      "Introduction to Cloud Computing: None\n"
     ]
    }
   ],
   "source": [
    "#Calculate average course rating\n",
    "\n",
    "pipeline = [\n",
    "    {\n",
    "        \"$project\": {\n",
    "            \"title\": 1,\n",
    "            \"averageRating\": {\"$avg\": \"$ratings\"}  # compute average of ratings array\n",
    "        }\n",
    "    }\n",
    "]\n",
    "\n",
    "result = courses_collection.aggregate(pipeline)\n",
    "\n",
    "print(\"Average course ratings:\")\n",
    "for doc in result:\n",
    "    print(f\"{doc['title']}: {doc['averageRating']}\")"
   ]
  },
  {
   "cell_type": "code",
   "execution_count": 71,
   "id": "d0220ebd",
   "metadata": {},
   "outputs": [
    {
     "name": "stdout",
     "output_type": "stream",
     "text": [
      "Courses grouped by category:\n",
      "Category: Artificial Intelligence (1 courses)\n",
      "Courses: Machine Learning 101\n",
      "--------------------------------------------------\n",
      "Category: Web Development (1 courses)\n",
      "Courses: Web Development Bootcamp\n",
      "--------------------------------------------------\n",
      "Category: Programming (2 courses)\n",
      "Courses: Python for Beginners, Advanced Python Programming\n",
      "--------------------------------------------------\n",
      "Category: Data Science (1 courses)\n",
      "Courses: Data Analysis with Excel\n",
      "--------------------------------------------------\n",
      "Category: Database (1 courses)\n",
      "Courses: Database Design with MongoDB\n",
      "--------------------------------------------------\n",
      "Category: Business (1 courses)\n",
      "Courses: Business Analytics Fundamentals\n",
      "--------------------------------------------------\n",
      "Category: Cloud Computing (2 courses)\n",
      "Courses: Cloud Computing Basics, Introduction to Cloud Computing\n",
      "--------------------------------------------------\n"
     ]
    }
   ],
   "source": [
    "#Group courses by category\n",
    "pipeline = [\n",
    "    {\n",
    "        \"$group\": {\n",
    "            \"_id\": \"$category\",\n",
    "            \"courses\": {\"$push\": \"$title\"}, \n",
    "            \"count\": {\"$sum\": 1}           \n",
    "        }\n",
    "    }\n",
    "]\n",
    "\n",
    "result = courses_collection.aggregate(pipeline)\n",
    "\n",
    "print(\"Courses grouped by category:\")\n",
    "for doc in result:\n",
    "    print(f\"Category: {doc['_id']} ({doc['count']} courses)\")\n",
    "    print(\"Courses:\", \", \".join(doc[\"courses\"]))\n",
    "    print(\"-\" * 50)"
   ]
  },
  {
   "cell_type": "code",
   "execution_count": 77,
   "id": "a56e6a62",
   "metadata": {},
   "outputs": [
    {
     "name": "stdout",
     "output_type": "stream",
     "text": [
      "Average grades raw output:\n",
      "{'_id': 'U002', 'averageGrade': 84.0}\n",
      "{'_id': 'U009', 'averageGrade': 67.5}\n",
      "{'_id': 'U008', 'averageGrade': 87.0}\n",
      "{'_id': 'U006', 'averageGrade': 95.0}\n",
      "{'_id': 'U018', 'averageGrade': None}\n",
      "{'_id': 'U014', 'averageGrade': 92.0}\n",
      "{'_id': 'U012', 'averageGrade': 92.0}\n",
      "{'_id': 'U007', 'averageGrade': 95.0}\n",
      "{'_id': 'U010', 'averageGrade': 68.0}\n"
     ]
    }
   ],
   "source": [
    "#Average grade per student\n",
    "\n",
    "pipeline = [\n",
    "    {\n",
    "        \"$group\": {\n",
    "            \"_id\": \"$studentId\",   # group by studentId\n",
    "            \"averageGrade\": {\"$avg\": \"$grade\"}  # average of grade\n",
    "        }\n",
    "    }\n",
    "]\n",
    "\n",
    "result = db[\"submissions\"].aggregate(pipeline)\n",
    "\n",
    "print(\"Average grades raw output:\")\n",
    "for doc in result:\n",
    "    print(doc)\n"
   ]
  },
  {
   "cell_type": "code",
   "execution_count": 73,
   "id": "8dce8941",
   "metadata": {},
   "outputs": [
    {
     "name": "stdout",
     "output_type": "stream",
     "text": [
      "Completion rate by course:\n",
      "Course ID: C004, Completion Rate: 0.00%\n",
      "Course ID: C003, Completion Rate: 0.00%\n",
      "Course ID: C001, Completion Rate: 0.00%\n",
      "Course ID: C002, Completion Rate: 0.00%\n",
      "Course ID: C005, Completion Rate: 0.00%\n",
      "Course ID: C006, Completion Rate: 0.00%\n",
      "Course ID: C007, Completion Rate: 0.00%\n",
      "Course ID: C734, Completion Rate: 0.00%\n",
      "Course ID: C008, Completion Rate: 0.00%\n"
     ]
    }
   ],
   "source": [
    "#Completion rate by course\n",
    "\n",
    "pipeline = [\n",
    "    {\n",
    "        \"$lookup\": {\n",
    "            \"from\": \"assignments\",\n",
    "            \"localField\": \"courseId\",\n",
    "            \"foreignField\": \"courseId\",\n",
    "            \"as\": \"course_assignments\"\n",
    "        }\n",
    "    },\n",
    "    {\n",
    "        \"$lookup\": {\n",
    "            \"from\": \"submissions\",\n",
    "            \"localField\": \"courseId\",\n",
    "            \"foreignField\": \"courseId\",\n",
    "            \"as\": \"course_submissions\"\n",
    "        }\n",
    "    },\n",
    "    {\n",
    "        \"$group\": {\n",
    "            \"_id\": \"$courseId\",\n",
    "            \"totalAssignments\": {\"$first\": {\"$size\": \"$course_assignments\"}},\n",
    "            \"totalSubmissions\": {\"$first\": {\"$size\": \"$course_submissions\"}}\n",
    "        }\n",
    "    },\n",
    "    {\n",
    "        \"$project\": {\n",
    "            \"_id\": 0,\n",
    "            \"courseId\": \"$_id\",\n",
    "            \"completionRate\": {\n",
    "                \"$cond\": [\n",
    "                    {\"$eq\": [\"$totalAssignments\", 0]},\n",
    "                    0,\n",
    "                    {\"$divide\": [\"$totalSubmissions\", \"$totalAssignments\"]}\n",
    "                ]\n",
    "            }\n",
    "        }\n",
    "    }\n",
    "]\n",
    "\n",
    "result = db[\"courses\"].aggregate(pipeline)\n",
    "\n",
    "print(\"Completion rate by course:\")\n",
    "for doc in result:\n",
    "    print(f\"Course ID: {doc['courseId']}, Completion Rate: {doc['completionRate']:.2%}\")"
   ]
  },
  {
   "cell_type": "code",
   "execution_count": 76,
   "id": "2d002480",
   "metadata": {},
   "outputs": [
    {
     "name": "stdout",
     "output_type": "stream",
     "text": [
      "Top-performing students:\n",
      "Kevin Malone: 95.00\n",
      "Stanley Hudson: 95.00\n",
      "Kelly Kapoor: 92.00\n",
      "Toby Flenderson: 92.00\n",
      "Angela Martin: 87.00\n"
     ]
    }
   ],
   "source": [
    "#Top performing students\n",
    "pipeline = [\n",
    "    {\n",
    "        \"$group\": {\n",
    "            \"_id\": \"$studentId\",           # studentId from submissions\n",
    "            \"averageGrade\": {\"$avg\": \"$grade\"}\n",
    "        }\n",
    "    },\n",
    "    {\n",
    "        \"$lookup\": {\n",
    "            \"from\": \"users\",\n",
    "            \"localField\": \"_id\",           # studentId from group\n",
    "            \"foreignField\": \"userId\",      # userId in users collection\n",
    "            \"as\": \"student_info\"\n",
    "        }\n",
    "    },\n",
    "    {\"$unwind\": \"$student_info\"},\n",
    "    {\n",
    "        \"$project\": {\n",
    "            \"_id\": 0,\n",
    "            \"studentName\": {\"$concat\": [\"$student_info.firstName\", \" \", \"$student_info.lastName\"]},\n",
    "            \"averageGrade\": 1\n",
    "        }\n",
    "    },\n",
    "    {\"$sort\": {\"averageGrade\": -1}},\n",
    "    {\"$limit\": 5}\n",
    "]\n",
    "\n",
    "result = db[\"submissions\"].aggregate(pipeline)\n",
    "\n",
    "print(\"Top-performing students:\")\n",
    "for doc in result:\n",
    "    print(f\"{doc['studentName']}: {doc['averageGrade']:.2f}\")\n"
   ]
  },
  {
   "cell_type": "code",
   "execution_count": 79,
   "id": "f3d510e5",
   "metadata": {},
   "outputs": [
    {
     "name": "stdout",
     "output_type": "stream",
     "text": [
      "Total students taught by each instructor:\n",
      "Holly Flax: 3 students\n",
      "Dwight Schrute: 1 students\n",
      "Michael Scott: 6 students\n",
      "Ryan Howard: 1 students\n",
      "Jan Levinson: 4 students\n"
     ]
    }
   ],
   "source": [
    "pipeline = [\n",
    "    {\n",
    "        \"$lookup\": {\n",
    "            \"from\": \"enrollments\",\n",
    "            \"localField\": \"courseId\",\n",
    "            \"foreignField\": \"courseId\",\n",
    "            \"as\": \"course_enrollments\"\n",
    "        }\n",
    "    },\n",
    "    {\n",
    "        \"$project\": {\n",
    "            \"instructorId\": 1,\n",
    "            \"courseTitle\": \"$title\",\n",
    "            \"studentsCount\": {\"$size\": \"$course_enrollments\"}\n",
    "        }\n",
    "    },\n",
    "    {\n",
    "        \"$group\": {\n",
    "            \"_id\": \"$instructorId\",\n",
    "            \"totalStudents\": {\"$sum\": \"$studentsCount\"}\n",
    "        }\n",
    "    },\n",
    "    {\n",
    "        \"$lookup\": {\n",
    "            \"from\": \"users\",\n",
    "            \"localField\": \"_id\",\n",
    "            \"foreignField\": \"userId\", \n",
    "            \"as\": \"instructor_info\"\n",
    "        }\n",
    "    },\n",
    "    {\"$unwind\": \"$instructor_info\"},\n",
    "    {\n",
    "        \"$project\": {\n",
    "            \"_id\": 0,\n",
    "            \"instructorName\": {\"$concat\": [\"$instructor_info.firstName\", \" \", \"$instructor_info.lastName\"]},\n",
    "            \"totalStudents\": 1\n",
    "        }\n",
    "    }\n",
    "]\n",
    "\n",
    "result = courses_collection.aggregate(pipeline)\n",
    "\n",
    "print(\"Total students taught by each instructor:\")\n",
    "for doc in result:\n",
    "    print(f\"{doc['instructorName']}: {doc['totalStudents']} students\")\n"
   ]
  },
  {
   "cell_type": "code",
   "execution_count": 81,
   "id": "46fd999b",
   "metadata": {},
   "outputs": [
    {
     "name": "stdout",
     "output_type": "stream",
     "text": [
      "Average course rating per instructor:\n",
      "Holly Flax: 0.00\n",
      "Ryan Howard: 0.00\n",
      "Michael Scott: 0.00\n",
      "Dwight Schrute: 0.00\n",
      "Jan Levinson: 0.00\n"
     ]
    }
   ],
   "source": [
    "#Average course rating per instructor\n",
    "\n",
    "pipeline = [\n",
    "    {\n",
    "        \"$project\": {\n",
    "            \"instructorId\": 1,\n",
    "            \"ratings\": {\"$ifNull\": [\"$ratings\", []]}  # replace null with empty array\n",
    "        }\n",
    "    },\n",
    "    {\n",
    "        \"$group\": {\n",
    "            \"_id\": \"$instructorId\",\n",
    "            \"averageRating\": {\"$avg\": {\"$avg\": \"$ratings\"}}  # averages across all courses\n",
    "        }\n",
    "    },\n",
    "    {\n",
    "        \"$lookup\": {\n",
    "            \"from\": \"users\",\n",
    "            \"localField\": \"_id\",\n",
    "            \"foreignField\": \"userId\",\n",
    "            \"as\": \"instructor_info\"\n",
    "        }\n",
    "    },\n",
    "    {\"$unwind\": \"$instructor_info\"},\n",
    "    {\n",
    "        \"$project\": {\n",
    "            \"_id\": 0,\n",
    "            \"instructorName\": {\"$concat\": [\"$instructor_info.firstName\", \" \", \"$instructor_info.lastName\"]},\n",
    "            \"averageRating\": {\"$ifNull\": [\"$averageRating\", 0]}  # set 0 if None\n",
    "        }\n",
    "    }\n",
    "]\n",
    "\n",
    "result = courses_collection.aggregate(pipeline)\n",
    "\n",
    "print(\"Average course rating per instructor:\")\n",
    "for doc in result:\n",
    "    print(f\"{doc['instructorName']}: {doc['averageRating']:.2f}\")\n"
   ]
  },
  {
   "cell_type": "code",
   "execution_count": 82,
   "id": "a6355e40",
   "metadata": {},
   "outputs": [
    {
     "name": "stdout",
     "output_type": "stream",
     "text": [
      "Revenue generated per instructor:\n",
      "Ryan Howard: $60.00\n",
      "Michael Scott: $320.00\n",
      "Dwight Schrute: $40.00\n",
      "Holly Flax: $165.00\n",
      "Jan Levinson: $340.00\n"
     ]
    }
   ],
   "source": [
    "#Revenue generated per instructor\n",
    "pipeline = [\n",
    "    {\n",
    "        \"$lookup\": {\n",
    "            \"from\": \"enrollments\",\n",
    "            \"localField\": \"courseId\",\n",
    "            \"foreignField\": \"courseId\",\n",
    "            \"as\": \"course_enrollments\"\n",
    "        }\n",
    "    },\n",
    "    {\n",
    "        \"$project\": {\n",
    "            \"instructorId\": 1,\n",
    "            \"courseRevenue\": {\"$multiply\": [{\"$size\": \"$course_enrollments\"}, \"$price\"]}\n",
    "        }\n",
    "    },\n",
    "    {\n",
    "        \"$group\": {\n",
    "            \"_id\": \"$instructorId\",\n",
    "            \"totalRevenue\": {\"$sum\": \"$courseRevenue\"}\n",
    "        }\n",
    "    },\n",
    "    {\n",
    "        \"$lookup\": {\n",
    "            \"from\": \"users\",\n",
    "            \"localField\": \"_id\",\n",
    "            \"foreignField\": \"userId\",\n",
    "            \"as\": \"instructor_info\"\n",
    "        }\n",
    "    },\n",
    "    {\"$unwind\": \"$instructor_info\"},\n",
    "    {\n",
    "        \"$project\": {\n",
    "            \"_id\": 0,\n",
    "            \"instructorName\": {\"$concat\": [\"$instructor_info.firstName\", \" \", \"$instructor_info.lastName\"]},\n",
    "            \"totalRevenue\": 1\n",
    "        }\n",
    "    }\n",
    "]\n",
    "\n",
    "result = courses_collection.aggregate(pipeline)\n",
    "\n",
    "print(\"Revenue generated per instructor:\")\n",
    "for doc in result:\n",
    "    print(f\"{doc['instructorName']}: ${doc['totalRevenue']:.2f}\")\n"
   ]
  },
  {
   "cell_type": "code",
   "execution_count": 85,
   "id": "a174d3c2",
   "metadata": {},
   "outputs": [
    {
     "name": "stdout",
     "output_type": "stream",
     "text": [
      " Monthly enrollment trends:\n",
      "2025-10: 14 enrollments\n"
     ]
    }
   ],
   "source": [
    "#monthly enrollment trend\n",
    "pipeline = [\n",
    "    {\n",
    "        \"$match\": {\n",
    "            \"dateEnrolled\": {\"$ne\": None}  # exclude documents with no date\n",
    "        }\n",
    "    },\n",
    "    {\n",
    "        \"$project\": {\n",
    "            \"year\": {\"$year\": \"$dateEnrolled\"},\n",
    "            \"month\": {\"$month\": \"$dateEnrolled\"}\n",
    "        }\n",
    "    },\n",
    "    {\n",
    "        \"$group\": {\n",
    "            \"_id\": {\"year\": \"$year\", \"month\": \"$month\"},\n",
    "            \"totalEnrollments\": {\"$sum\": 1}\n",
    "        }\n",
    "    },\n",
    "    {\n",
    "        \"$sort\": {\"_id.year\": 1, \"_id.month\": 1}  # chronological order\n",
    "    }\n",
    "]\n",
    "\n",
    "result = db[\"enrollments\"].aggregate(pipeline)\n",
    "\n",
    "print(\" Monthly enrollment trends:\")\n",
    "for doc in result:\n",
    "    print(f\"{doc['_id']['year']}-{doc['_id']['month']:02d}: {doc['totalEnrollments']} enrollments\")\n"
   ]
  },
  {
   "cell_type": "code",
   "execution_count": 86,
   "id": "b34e134c",
   "metadata": {},
   "outputs": [
    {
     "name": "stdout",
     "output_type": "stream",
     "text": [
      "Most popular course categories:\n",
      "Programming: 7 enrollments\n",
      "Business: 3 enrollments\n",
      "Artificial Intelligence: 2 enrollments\n",
      "Web Development: 1 enrollments\n",
      "Data Science: 1 enrollments\n",
      "Database: 1 enrollments\n",
      "Cloud Computing: 0 enrollments\n"
     ]
    }
   ],
   "source": [
    "#most popular course categories\n",
    "pipeline = [\n",
    "    {\n",
    "        \"$lookup\": {\n",
    "            \"from\": \"enrollments\",\n",
    "            \"localField\": \"courseId\",\n",
    "            \"foreignField\": \"courseId\",\n",
    "            \"as\": \"course_enrollments\"\n",
    "        }\n",
    "    },\n",
    "    {\n",
    "        \"$project\": {\n",
    "            \"category\": 1,\n",
    "            \"enrollmentsCount\": {\"$size\": \"$course_enrollments\"}\n",
    "        }\n",
    "    },\n",
    "    {\n",
    "        \"$group\": {\n",
    "            \"_id\": \"$category\",\n",
    "            \"totalEnrollments\": {\"$sum\": \"$enrollmentsCount\"}\n",
    "        }\n",
    "    },\n",
    "    {\"$sort\": {\"totalEnrollments\": -1}}\n",
    "]\n",
    "\n",
    "result = courses_collection.aggregate(pipeline)\n",
    "\n",
    "print(\"Most popular course categories:\")\n",
    "for doc in result:\n",
    "    print(f\"{doc['_id']}: {doc['totalEnrollments']} enrollments\")\n"
   ]
  },
  {
   "cell_type": "code",
   "execution_count": 87,
   "id": "0af90860",
   "metadata": {},
   "outputs": [
    {
     "name": "stdout",
     "output_type": "stream",
     "text": [
      "Student engagement metrics (assignments submitted):\n",
      "Jim Halpert: 2 submissions\n",
      "Oscar Martinez: 2 submissions\n",
      "Kelly Kapoor: 2 submissions\n",
      "Toby Flenderson: 1 submissions\n",
      "Darryl Philbin: 1 submissions\n",
      "Stanley Hudson: 1 submissions\n",
      "Angela Martin: 1 submissions\n",
      "Kevin Malone: 1 submissions\n",
      "Phyllis Vance: 1 submissions\n"
     ]
    }
   ],
   "source": [
    "#student engagement metrcis \n",
    "pipeline = [\n",
    "    {\n",
    "        \"$group\": {\n",
    "            \"_id\": \"$studentId\",\n",
    "            \"assignmentsSubmitted\": {\"$sum\": 1}\n",
    "        }\n",
    "    },\n",
    "    {\n",
    "        \"$lookup\": {\n",
    "            \"from\": \"users\",\n",
    "            \"localField\": \"_id\",\n",
    "            \"foreignField\": \"userId\",\n",
    "            \"as\": \"student_info\"\n",
    "        }\n",
    "    },\n",
    "    {\"$unwind\": \"$student_info\"},\n",
    "    {\n",
    "        \"$project\": {\n",
    "            \"_id\": 0,\n",
    "            \"studentName\": {\"$concat\": [\"$student_info.firstName\", \" \", \"$student_info.lastName\"]},\n",
    "            \"assignmentsSubmitted\": 1\n",
    "        }\n",
    "    },\n",
    "    {\"$sort\": {\"assignmentsSubmitted\": -1}}\n",
    "]\n",
    "\n",
    "result = db[\"submissions\"].aggregate(pipeline)\n",
    "\n",
    "print(\"Student engagement metrics (assignments submitted):\")\n",
    "for doc in result:\n",
    "    print(f\"{doc['studentName']}: {doc['assignmentsSubmitted']} submissions\")\n"
   ]
  },
  {
   "cell_type": "code",
   "execution_count": 89,
   "id": "b4d23be5",
   "metadata": {},
   "outputs": [
    {
     "name": "stdout",
     "output_type": "stream",
     "text": [
      "Index created on users.email (unique)\n"
     ]
    }
   ],
   "source": [
    "#index for user email lookup\n",
    "# users_collection is already defined\n",
    "users_collection.create_index(\"email\", unique=True)\n",
    "print(\"Index created on users.email (unique)\")\n"
   ]
  },
  {
   "cell_type": "code",
   "execution_count": 90,
   "id": "28e19764",
   "metadata": {},
   "outputs": [
    {
     "name": "stdout",
     "output_type": "stream",
     "text": [
      "Text index on courses.title + index on courses.category\n"
     ]
    }
   ],
   "source": [
    "#Index for course search by title and category\n",
    "courses_collection.create_index([(\"title\", \"text\"), (\"category\", 1)])\n",
    "print(\"Text index on courses.title + index on courses.category\")\n"
   ]
  },
  {
   "cell_type": "code",
   "execution_count": 91,
   "id": "97d3c3df",
   "metadata": {},
   "outputs": [
    {
     "name": "stdout",
     "output_type": "stream",
     "text": [
      "Index created on assignments.dueDate\n"
     ]
    }
   ],
   "source": [
    "#index for assignment queries by due date\n",
    "assignments_collection.create_index(\"dueDate\")\n",
    "print(\"Index created on assignments.dueDate\")\n"
   ]
  },
  {
   "cell_type": "code",
   "execution_count": 92,
   "id": "7ebe1f6d",
   "metadata": {},
   "outputs": [
    {
     "name": "stdout",
     "output_type": "stream",
     "text": [
      "Compound index on enrollments.studentId + enrollments.courseId\n"
     ]
    }
   ],
   "source": [
    "#index for enrollment queries by student and course\n",
    "enrollments_collection.create_index([(\"studentId\", 1), (\"courseId\", 1)])\n",
    "print(\"Compound index on enrollments.studentId + enrollments.courseId\")\n"
   ]
  },
  {
   "cell_type": "code",
   "execution_count": 94,
   "id": "38400db9",
   "metadata": {},
   "outputs": [
    {
     "name": "stdout",
     "output_type": "stream",
     "text": [
      "Query plan for finding user by email:\n",
      "{'command': {'$db': 'eduhub_db',\n",
      "             'filter': {'email': 'ellis@example.com'},\n",
      "             'find': 'users'},\n",
      " 'executionStats': {'allPlansExecution': [],\n",
      "                    'executionStages': {'docsExamined': 0,\n",
      "                                        'indexName': 'email_1',\n",
      "                                        'isCached': False,\n",
      "                                        'keyPattern': '{ email: 1 }',\n",
      "                                        'keysExamined': 0,\n",
      "                                        'nReturned': 0,\n",
      "                                        'stage': 'EXPRESS_IXSCAN'},\n",
      "                    'executionSuccess': True,\n",
      "                    'executionTimeMillis': 0,\n",
      "                    'nReturned': 0,\n",
      "                    'totalDocsExamined': 0,\n",
      "                    'totalKeysExamined': 0},\n",
      " 'explainVersion': '1',\n",
      " 'ok': 1.0,\n",
      " 'queryPlanner': {'indexFilterSet': False,\n",
      "                  'maxIndexedAndSolutionsReached': False,\n",
      "                  'maxIndexedOrSolutionsReached': False,\n",
      "                  'maxScansToExplodeReached': False,\n",
      "                  'namespace': 'eduhub_db.users',\n",
      "                  'optimizationTimeMillis': 0,\n",
      "                  'parsedQuery': {'email': {'$eq': 'ellis@example.com'}},\n",
      "                  'planCacheKey': 'F713C797',\n",
      "                  'planCacheShapeHash': '2C2F10E4',\n",
      "                  'prunedSimilarIndexes': False,\n",
      "                  'queryHash': '2C2F10E4',\n",
      "                  'rejectedPlans': [],\n",
      "                  'winningPlan': {'indexName': 'email_1',\n",
      "                                  'isCached': False,\n",
      "                                  'keyPattern': '{ email: 1 }',\n",
      "                                  'stage': 'EXPRESS_IXSCAN'}},\n",
      " 'queryShapeHash': '13B5689DF2E437921787A21BC857ED38433A6454800A5CDB2C6D83C1DE8F5197',\n",
      " 'serverInfo': {'gitVersion': '13e629eeccd63f00d17568fc4c12b7530fa34b54',\n",
      "                'host': 'LAPTOP-UN8KPM6Q',\n",
      "                'port': 27017,\n",
      "                'version': '8.2.0'},\n",
      " 'serverParameters': {'internalDocumentSourceGroupMaxMemoryBytes': 104857600,\n",
      "                      'internalDocumentSourceSetWindowFieldsMaxMemoryBytes': 104857600,\n",
      "                      'internalLookupStageIntermediateDocumentMaxSizeBytes': 104857600,\n",
      "                      'internalQueryFacetBufferSizeBytes': 104857600,\n",
      "                      'internalQueryFacetMaxOutputDocSizeBytes': 104857600,\n",
      "                      'internalQueryFrameworkControl': 'trySbeRestricted',\n",
      "                      'internalQueryMaxAddToSetBytes': 104857600,\n",
      "                      'internalQueryMaxBlockingSortMemoryUsageBytes': 104857600,\n",
      "                      'internalQueryPlannerIgnoreIndexWithCollationForRegex': 1,\n",
      "                      'internalQueryProhibitBlockingMergeOnMongoS': 0}}\n"
     ]
    }
   ],
   "source": [
    "#Analyze query performance using explain() method in PyMongo\n",
    "from pprint import pprint\n",
    "\n",
    "query = {\"email\": \"ellis@example.com\"}\n",
    "explain_result = users_collection.find(query).explain()\n",
    "print(\"Query plan for finding user by email:\")\n",
    "pprint(explain_result)\n"
   ]
  },
  {
   "cell_type": "code",
   "execution_count": 96,
   "id": "530e0108",
   "metadata": {},
   "outputs": [
    {
     "name": "stdout",
     "output_type": "stream",
     "text": [
      "Query plan for upcoming assignments:\n",
      "{'command': {'$db': 'eduhub_db',\n",
      "             'filter': {'dueDate': {'$gte': datetime.datetime(2025, 10, 5, 19, 23, 37, 206000)}},\n",
      "             'find': 'assignments'},\n",
      " 'executionStats': {'allPlansExecution': [],\n",
      "                    'executionStages': {'advanced': 10,\n",
      "                                        'alreadyHasObj': 0,\n",
      "                                        'docsExamined': 10,\n",
      "                                        'executionTimeMillisEstimate': 12,\n",
      "                                        'inputStage': {'advanced': 10,\n",
      "                                                       'direction': 'forward',\n",
      "                                                       'dupsDropped': 0,\n",
      "                                                       'dupsTested': 0,\n",
      "                                                       'executionTimeMillisEstimate': 12,\n",
      "                                                       'indexBounds': {'dueDate': ['[new '\n",
      "                                                                                   'Date(1759692217206), '\n",
      "                                                                                   'new '\n",
      "                                                                                   'Date(9223372036854775807)]']},\n",
      "                                                       'indexName': 'dueDate_1',\n",
      "                                                       'indexVersion': 2,\n",
      "                                                       'isEOF': 1,\n",
      "                                                       'isMultiKey': False,\n",
      "                                                       'isPartial': False,\n",
      "                                                       'isSparse': False,\n",
      "                                                       'isUnique': False,\n",
      "                                                       'keyPattern': {'dueDate': 1},\n",
      "                                                       'keysExamined': 10,\n",
      "                                                       'multiKeyPaths': {'dueDate': []},\n",
      "                                                       'nReturned': 10,\n",
      "                                                       'needTime': 0,\n",
      "                                                       'needYield': 0,\n",
      "                                                       'restoreState': 1,\n",
      "                                                       'saveState': 1,\n",
      "                                                       'seeks': 1,\n",
      "                                                       'stage': 'IXSCAN',\n",
      "                                                       'works': 11},\n",
      "                                        'isCached': False,\n",
      "                                        'isEOF': 1,\n",
      "                                        'nReturned': 10,\n",
      "                                        'needTime': 0,\n",
      "                                        'needYield': 0,\n",
      "                                        'restoreState': 1,\n",
      "                                        'saveState': 1,\n",
      "                                        'stage': 'FETCH',\n",
      "                                        'works': 11},\n",
      "                    'executionSuccess': True,\n",
      "                    'executionTimeMillis': 23,\n",
      "                    'nReturned': 10,\n",
      "                    'totalDocsExamined': 10,\n",
      "                    'totalKeysExamined': 10},\n",
      " 'explainVersion': '1',\n",
      " 'ok': 1.0,\n",
      " 'queryPlanner': {'indexFilterSet': False,\n",
      "                  'maxIndexedAndSolutionsReached': False,\n",
      "                  'maxIndexedOrSolutionsReached': False,\n",
      "                  'maxScansToExplodeReached': False,\n",
      "                  'namespace': 'eduhub_db.assignments',\n",
      "                  'optimizationTimeMillis': 11,\n",
      "                  'parsedQuery': {'dueDate': {'$gte': datetime.datetime(2025, 10, 5, 19, 23, 37, 206000)}},\n",
      "                  'planCacheKey': '00A00E07',\n",
      "                  'planCacheShapeHash': '7043D0BA',\n",
      "                  'prunedSimilarIndexes': False,\n",
      "                  'queryHash': '7043D0BA',\n",
      "                  'rejectedPlans': [],\n",
      "                  'winningPlan': {'inputStage': {'direction': 'forward',\n",
      "                                                 'indexBounds': {'dueDate': ['[new '\n",
      "                                                                             'Date(1759692217206), '\n",
      "                                                                             'new '\n",
      "                                                                             'Date(9223372036854775807)]']},\n",
      "                                                 'indexName': 'dueDate_1',\n",
      "                                                 'indexVersion': 2,\n",
      "                                                 'isMultiKey': False,\n",
      "                                                 'isPartial': False,\n",
      "                                                 'isSparse': False,\n",
      "                                                 'isUnique': False,\n",
      "                                                 'keyPattern': {'dueDate': 1},\n",
      "                                                 'multiKeyPaths': {'dueDate': []},\n",
      "                                                 'stage': 'IXSCAN'},\n",
      "                                  'isCached': False,\n",
      "                                  'stage': 'FETCH'}},\n",
      " 'queryShapeHash': '71EB376D16ED2292D328E40C46348ED7B83C7D28BA0B50C4ECBB238D40805437',\n",
      " 'serverInfo': {'gitVersion': '13e629eeccd63f00d17568fc4c12b7530fa34b54',\n",
      "                'host': 'LAPTOP-UN8KPM6Q',\n",
      "                'port': 27017,\n",
      "                'version': '8.2.0'},\n",
      " 'serverParameters': {'internalDocumentSourceGroupMaxMemoryBytes': 104857600,\n",
      "                      'internalDocumentSourceSetWindowFieldsMaxMemoryBytes': 104857600,\n",
      "                      'internalLookupStageIntermediateDocumentMaxSizeBytes': 104857600,\n",
      "                      'internalQueryFacetBufferSizeBytes': 104857600,\n",
      "                      'internalQueryFacetMaxOutputDocSizeBytes': 104857600,\n",
      "                      'internalQueryFrameworkControl': 'trySbeRestricted',\n",
      "                      'internalQueryMaxAddToSetBytes': 104857600,\n",
      "                      'internalQueryMaxBlockingSortMemoryUsageBytes': 104857600,\n",
      "                      'internalQueryPlannerIgnoreIndexWithCollationForRegex': 1,\n",
      "                      'internalQueryProhibitBlockingMergeOnMongoS': 0}}\n"
     ]
    }
   ],
   "source": [
    "#Analyze query performance using explain() method in PyMongo\n",
    "from datetime import datetime\n",
    "\n",
    "today = datetime.utcnow()\n",
    "query = {\"dueDate\": {\"$gte\": today}}\n",
    "explain_result = assignments_collection.find(query).explain()\n",
    "print(\"Query plan for upcoming assignments:\")\n",
    "pprint(explain_result)\n"
   ]
  },
  {
   "cell_type": "code",
   "execution_count": 97,
   "id": "91b11b62",
   "metadata": {},
   "outputs": [
    {
     "name": "stdout",
     "output_type": "stream",
     "text": [
      " Users collection created with validation rules\n"
     ]
    }
   ],
   "source": [
    "from pymongo import MongoClient\n",
    "\n",
    "client = MongoClient(\"mongodb://localhost:27017/\")\n",
    "db = client[\"eduhub_db\"]\n",
    "\n",
    "# Drop collection if it exists (optional for testing)\n",
    "db.users.drop()\n",
    "\n",
    "# Create collection with JSON schema validation\n",
    "db.create_collection(\n",
    "    \"users\",\n",
    "    validator={\n",
    "        \"$jsonSchema\": {\n",
    "            \"bsonType\": \"object\",\n",
    "            \"required\": [\"userId\", \"email\", \"firstName\", \"lastName\", \"role\", \"isActive\"],\n",
    "            \"properties\": {\n",
    "                \"userId\": {\"bsonType\": \"string\"},\n",
    "                \"email\": {\n",
    "                    \"bsonType\": \"string\",\n",
    "                    \"pattern\": r\"^[\\w\\.-]+@[\\w\\.-]+\\.\\w+$\",  # simple email regex\n",
    "                    \"description\": \"must be a valid email\"\n",
    "                },\n",
    "                \"firstName\": {\"bsonType\": \"string\"},\n",
    "                \"lastName\": {\"bsonType\": \"string\"},\n",
    "                \"role\": {\n",
    "                    \"enum\": [\"student\", \"instructor\"],\n",
    "                    \"description\": \"can only be student or instructor\"\n",
    "                },\n",
    "                \"profile\": {\n",
    "                    \"bsonType\": \"object\",\n",
    "                    \"properties\": {\n",
    "                        \"bio\": {\"bsonType\": \"string\"},\n",
    "                        \"avatar\": {\"bsonType\": \"string\"},\n",
    "                        \"skills\": {\n",
    "                            \"bsonType\": \"array\",\n",
    "                            \"items\": {\"bsonType\": \"string\"}\n",
    "                        }\n",
    "                    }\n",
    "                },\n",
    "                \"isActive\": {\"bsonType\": \"bool\"}\n",
    "            }\n",
    "        }\n",
    "    }\n",
    ")\n",
    "\n",
    "print(\" Users collection created with validation rules\")\n"
   ]
  },
  {
   "cell_type": "code",
   "execution_count": 98,
   "id": "6df54787",
   "metadata": {},
   "outputs": [
    {
     "name": "stdout",
     "output_type": "stream",
     "text": [
      "Courses collection created with validation rules\n"
     ]
    }
   ],
   "source": [
    "db.courses.drop()\n",
    "\n",
    "db.create_collection(\n",
    "    \"courses\",\n",
    "    validator={\n",
    "        \"$jsonSchema\": {\n",
    "            \"bsonType\": \"object\",\n",
    "            \"required\": [\"courseId\", \"title\", \"instructorId\", \"level\", \"isPublished\"],\n",
    "            \"properties\": {\n",
    "                \"courseId\": {\"bsonType\": \"string\"},\n",
    "                \"title\": {\"bsonType\": \"string\"},\n",
    "                \"description\": {\"bsonType\": \"string\"},\n",
    "                \"instructorId\": {\"bsonType\": \"string\"},\n",
    "                \"category\": {\"bsonType\": \"string\"},\n",
    "                \"level\": {\n",
    "                    \"enum\": [\"beginner\", \"intermediate\", \"advanced\"]\n",
    "                },\n",
    "                \"duration\": {\"bsonType\": \"int\"},\n",
    "                \"price\": {\"bsonType\": \"double\"},\n",
    "                \"tags\": {\n",
    "                    \"bsonType\": \"array\",\n",
    "                    \"items\": {\"bsonType\": \"string\"}\n",
    "                },\n",
    "                \"createdAt\": {\"bsonType\": \"date\"},\n",
    "                \"updatedAt\": {\"bsonType\": \"date\"},\n",
    "                \"isPublished\": {\"bsonType\": \"bool\"}\n",
    "            }\n",
    "        }\n",
    "    }\n",
    ")\n",
    "\n",
    "print(\"Courses collection created with validation rules\")\n"
   ]
  },
  {
   "cell_type": "code",
   "execution_count": 99,
   "id": "484f3ab8",
   "metadata": {},
   "outputs": [
    {
     "name": "stdout",
     "output_type": "stream",
     "text": [
      "Failed to insert user due to validation error:\n",
      "Document failed validation, full error: {'index': 0, 'code': 121, 'errmsg': 'Document failed validation', 'errInfo': {'failingDocumentId': ObjectId('68e2c6d8cec93274d47e9d6b'), 'details': {'operatorName': '$jsonSchema', 'schemaRulesNotSatisfied': [{'operatorName': 'properties', 'propertiesNotSatisfied': [{'propertyName': 'email', 'description': 'must be a valid email', 'details': [{'operatorName': 'pattern', 'specifiedAs': {'pattern': '^[\\\\w\\\\.-]+@[\\\\w\\\\.-]+\\\\.\\\\w+$'}, 'reason': 'regular expression did not match', 'consideredValue': 'invalid_email'}]}]}]}}}\n"
     ]
    }
   ],
   "source": [
    "from pymongo.errors import WriteError\n",
    "\n",
    "new_user = {\n",
    "    \"userId\": \"u1001\",\n",
    "    \"email\": \"invalid_email\",  # invalid\n",
    "    \"firstName\": \"Ellis\",\n",
    "    \"lastName\": \"Ologun\",\n",
    "    \"role\": \"student\",\n",
    "    \"isActive\": True\n",
    "}\n",
    "\n",
    "try:\n",
    "    db.users.insert_one(new_user)\n",
    "except WriteError as e:\n",
    "    print(\"Failed to insert user due to validation error:\")\n",
    "    print(e)\n"
   ]
  },
  {
   "cell_type": "code",
   "execution_count": 100,
   "id": "79b765fe",
   "metadata": {},
   "outputs": [],
   "source": [
    "#duplicate key errors\n",
    "from pymongo.errors import DuplicateKeyError\n",
    "\n",
    "duplicate_user = {\n",
    "    \"userId\": \"u1001\",  # already exists\n",
    "    \"email\": \"ellis@example.com\",  # already exists\n",
    "    \"firstName\": \"Ellis\",\n",
    "    \"lastName\": \"Ologun\",\n",
    "    \"role\": \"student\",\n",
    "    \"isActive\": True\n",
    "}\n",
    "\n",
    "try:\n",
    "    db.users.insert_one(duplicate_user)\n",
    "except DuplicateKeyError as e:\n",
    "    print(\"Duplicate key error detected:\")\n",
    "    print(e)\n"
   ]
  },
  {
   "cell_type": "code",
   "execution_count": 101,
   "id": "688dce44",
   "metadata": {},
   "outputs": [
    {
     "name": "stdout",
     "output_type": "stream",
     "text": [
      "Invalid data type error detected:\n",
      "Document failed validation, full error: {'index': 0, 'code': 121, 'errmsg': 'Document failed validation', 'errInfo': {'failingDocumentId': ObjectId('68e2c755cec93274d47e9d6d'), 'details': {'operatorName': '$jsonSchema', 'schemaRulesNotSatisfied': [{'operatorName': 'properties', 'propertiesNotSatisfied': [{'propertyName': 'isActive', 'details': [{'operatorName': 'bsonType', 'specifiedAs': {'bsonType': 'bool'}, 'reason': 'type did not match', 'consideredValue': 'True', 'consideredType': 'string'}]}]}]}}}\n"
     ]
    }
   ],
   "source": [
    "#Invalid data typr insertions\n",
    "from pymongo.errors import WriteError\n",
    "\n",
    "invalid_user = {\n",
    "    \"userId\": \"u1002\",\n",
    "    \"email\": \"ellis2@example.com\",\n",
    "    \"firstName\": \"Ellis\",\n",
    "    \"lastName\": \"Ologun\",\n",
    "    \"role\": \"student\",\n",
    "    \"isActive\": \"True\" \n",
    "}\n",
    "\n",
    "try:\n",
    "    db.users.insert_one(invalid_user)\n",
    "except WriteError as e:\n",
    "    print(\"Invalid data type error detected:\")\n",
    "    print(e)\n"
   ]
  },
  {
   "cell_type": "code",
   "execution_count": 102,
   "id": "d3cc1ad9",
   "metadata": {},
   "outputs": [
    {
     "name": "stdout",
     "output_type": "stream",
     "text": [
      "Missing required fields error detected:\n",
      "Document failed validation, full error: {'index': 0, 'code': 121, 'errmsg': 'Document failed validation', 'errInfo': {'failingDocumentId': ObjectId('68e2c794cec93274d47e9d6e'), 'details': {'operatorName': '$jsonSchema', 'schemaRulesNotSatisfied': [{'operatorName': 'required', 'specifiedAs': {'required': ['userId', 'email', 'firstName', 'lastName', 'role', 'isActive']}, 'missingProperties': ['firstName', 'lastName']}]}}}\n"
     ]
    }
   ],
   "source": [
    "#missing required fields \n",
    "missing_field_user = {\n",
    "    \"userId\": \"u1003\",\n",
    "    \"email\": \"ellis3@example.com\",\n",
    "    # missing firstName and lastName\n",
    "    \"role\": \"student\",\n",
    "    \"isActive\": True\n",
    "}\n",
    "\n",
    "try:\n",
    "    db.users.insert_one(missing_field_user)\n",
    "except WriteError as e:\n",
    "    print(\"Missing required fields error detected:\")\n",
    "    print(e)\n"
   ]
  },
  {
   "cell_type": "code",
   "execution_count": 107,
   "id": "d46b3817",
   "metadata": {},
   "outputs": [
    {
     "name": "stdout",
     "output_type": "stream",
     "text": [
      "Found 0 old enrollments to archive.\n",
      "⚠ No old enrollments found for archiving.\n"
     ]
    },
    {
     "data": {
      "text/plain": [
       "'enrolledAt_1'"
      ]
     },
     "execution_count": 107,
     "metadata": {},
     "output_type": "execute_result"
    }
   ],
   "source": [
    "#Bonus Design a data archiving strategy for old enrollments\n",
    "from datetime import datetime, timedelta\n",
    "\n",
    "# Example: enrollments older than 1 year\n",
    "one_year_ago = datetime.utcnow() - timedelta(days=365)\n",
    "\n",
    "old_enrollments = list(enrollments_collection.find({\n",
    "    \"enrolledAt\": {\"$lt\": one_year_ago}\n",
    "}))\n",
    "\n",
    "print(f\"Found {len(old_enrollments)} old enrollments to archive.\")\n",
    "\n",
    "enrollments_archive_collection = db[\"enrollments_archive\"]\n",
    "\n",
    "if old_enrollments:\n",
    "    # Insert into archive\n",
    "    enrollments_archive_collection.insert_many(old_enrollments)\n",
    "    print(f\"Archived {len(old_enrollments)} enrollments.\")\n",
    "\n",
    "    # Delete from main collection\n",
    "    ids_to_delete = [e[\"_id\"] for e in old_enrollments]\n",
    "    enrollments_collection.delete_many({\"_id\": {\"$in\": ids_to_delete}})\n",
    "    print(f\"Removed {len(old_enrollments)} old enrollments from active collection.\")\n",
    "else:\n",
    "    print(\"⚠ No old enrollments found for archiving.\")\n",
    "\n",
    "\n",
    "    \n",
    "\n",
    "enrollments_archive_collection.create_index(\"studentId\")\n",
    "enrollments_archive_collection.create_index(\"courseId\")\n",
    "enrollments_archive_collection.create_index(\"enrolledAt\")\n",
    "\n",
    "\n"
   ]
  },
  {
   "cell_type": "code",
   "execution_count": 126,
   "id": "784f41ce",
   "metadata": {
    "scrolled": true
   },
   "outputs": [
    {
     "name": "stdout",
     "output_type": "stream",
     "text": [
      "test_results.md generated successfully!\n"
     ]
    }
   ],
   "source": []
  },
  {
   "cell_type": "code",
   "execution_count": null,
   "id": "32f8fe0f",
   "metadata": {},
   "outputs": [],
   "source": []
  },
  {
   "cell_type": "code",
   "execution_count": null,
   "id": "6d1c457a",
   "metadata": {},
   "outputs": [],
   "source": []
  },
  {
   "cell_type": "code",
   "execution_count": null,
   "id": "6c8aac8f",
   "metadata": {},
   "outputs": [],
   "source": []
  },
  {
   "cell_type": "code",
   "execution_count": null,
   "id": "07966517",
   "metadata": {},
   "outputs": [],
   "source": []
  },
  {
   "cell_type": "code",
   "execution_count": null,
   "id": "d61253d6",
   "metadata": {},
   "outputs": [],
   "source": []
  },
  {
   "cell_type": "code",
   "execution_count": null,
   "id": "35268aa8",
   "metadata": {},
   "outputs": [],
   "source": []
  },
  {
   "cell_type": "code",
   "execution_count": null,
   "id": "2ba31ea9",
   "metadata": {},
   "outputs": [],
   "source": []
  },
  {
   "cell_type": "code",
   "execution_count": null,
   "id": "c5937789",
   "metadata": {},
   "outputs": [],
   "source": []
  },
  {
   "cell_type": "code",
   "execution_count": null,
   "id": "ed71cd01",
   "metadata": {},
   "outputs": [],
   "source": []
  },
  {
   "cell_type": "code",
   "execution_count": null,
   "id": "b517ba01",
   "metadata": {},
   "outputs": [],
   "source": []
  }
 ],
 "metadata": {
  "kernelspec": {
   "display_name": "Python 3 (ipykernel)",
   "language": "python",
   "name": "python3"
  },
  "language_info": {
   "codemirror_mode": {
    "name": "ipython",
    "version": 3
   },
   "file_extension": ".py",
   "mimetype": "text/x-python",
   "name": "python",
   "nbconvert_exporter": "python",
   "pygments_lexer": "ipython3",
   "version": "3.11.5"
  }
 },
 "nbformat": 4,
 "nbformat_minor": 5
}
